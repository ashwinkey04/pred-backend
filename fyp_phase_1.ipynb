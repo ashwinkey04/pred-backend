{
  "nbformat": 4,
  "nbformat_minor": 0,
  "metadata": {
    "colab": {
      "provenance": [],
      "authorship_tag": "ABX9TyO0dZvZwzR/FaKLDlaFU2Yw"
    },
    "kernelspec": {
      "name": "python3",
      "display_name": "Python 3"
    },
    "language_info": {
      "name": "python"
    }
  },
  "cells": [
    {
      "cell_type": "markdown",
      "source": [
        "### Phase 1\n",
        "\n",
        "> Gathering news articles and stock prices for a specific stock and preparing the dataset for sentiment analysis and stock value prediction\n",
        "\n",
        "\n",
        "\n",
        "#### How it works\n",
        "> This notebook fetches daily stock market data of a specified stock from [yfinance](https://www.yahoofinanceapi.com/) api and its daily news articles from [mediastack](https://mediastack.com/) api and creates a derived dataset which contains **news sentiment**. This notebook can be scheduled to run daily on Google Cloud Run to gather data daily\n"
      ],
      "metadata": {
        "id": "nqECZdj-apRi"
      }
    },
    {
      "cell_type": "markdown",
      "source": [
        "\n",
        "#### Structure of dataset generated\n",
        "\n",
        "1. reliance_stock_history.csv\n",
        "2. reliance_news.json\n",
        "3. reliance_news_sentiment.csv\n",
        "\n",
        "#### reliance_stock_history.csv \n",
        "\n",
        "1. Date - Trading date\n",
        "2. Open - Open price of day\n",
        "3. High - Highest price of day\n",
        "4. Low - Lowest price of day\n",
        "5. Close - Closing price of day\n",
        "6. Volume - Amount of asset/security \n",
        "7. Dividends - Distribution of stock\n",
        "8. Stock splits - Shares of stock to its current shareholders\n",
        "\n",
        "\n",
        "#### reliance_news.json\n",
        "\n",
        "1. author - author of news article \n",
        "2. title - title of news article \n",
        "3. description - description of news article\n",
        "4. url - url of news article\n",
        "5. source - source of news article\n",
        "6. image - image of news article\n",
        "7. category - category of news article\n",
        "8. language - language of news article\n",
        "9. country - country name\n",
        "10. published_at - published date\n",
        "\n",
        "#### reliance_news_sentiment.csv\n",
        "\n",
        "1. published_at - published date\n",
        "2. title - title of news article \n",
        "3. description - description of news article\n",
        "4. url - url of news article\n",
        "5. sentiment - news sentiment\n",
        "6. sentiment_score - news sentiment score between 0 to 1\n",
        "\n"
      ],
      "metadata": {
        "id": "kiNDL2gCb5qk"
      }
    },
    {
      "cell_type": "code",
      "source": [],
      "metadata": {
        "id": "HCLQrst7k_bo"
      },
      "execution_count": null,
      "outputs": []
    }
  ]
}