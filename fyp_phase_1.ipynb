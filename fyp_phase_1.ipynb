{
  "cells": [
    {
      "cell_type": "markdown",
      "metadata": {
        "colab_type": "text",
        "id": "view-in-github"
      },
      "source": [
        "<a href=\"https://colab.research.google.com/gist/ashwinkey04/de066da294792f198b7f74ad6ec702e8/fyp_phase_1.ipynb\" target=\"_parent\"><img src=\"https://colab.research.google.com/assets/colab-badge.svg\" alt=\"Open In Colab\"/></a>"
      ]
    },
    {
      "cell_type": "markdown",
      "metadata": {
        "id": "nqECZdj-apRi"
      },
      "source": [
        "# Phase 1\n",
        "\n",
        "> Gathering news articles and stock prices for a specific stock and preparing the dataset for sentiment analysis and stock value prediction\n",
        "\n",
        "\n",
        "#### How it works\n",
        "> This notebook fetches daily stock market data of a specified stock from [yfinance](https://www.yahoofinanceapi.com/) api and its daily news articles from [mediastack](https://mediastack.com/) api and creates a derived dataset which contains **news sentiment**. This notebook can be scheduled to run daily on Google Cloud Run to gather data daily\n",
        "\n"
      ]
    },
    {
      "attachments": {},
      "cell_type": "markdown",
      "metadata": {
        "id": "kiNDL2gCb5qk"
      },
      "source": [
        "\n",
        "#### stock_history.csv \n",
        "\n",
        "1. Date - Trading date\n",
        "2. Open - Open price of day\n",
        "3. High - Highest price of day\n",
        "4. Low - Lowest price of day\n",
        "5. Close - Closing price of day\n",
        "6. Volume - Amount of asset/security \n",
        "7. Dividends - Distribution of stock\n",
        "8. Stock splits - Shares of stock to its current shareholders\n",
        "\n",
        "\n",
        "#### news.json\n",
        "\n",
        "1. author - author of news article \n",
        "2. title - title of news article \n",
        "3. description - description of news article\n",
        "4. url - url of news article\n",
        "5. source - source of news article\n",
        "6. image - image of news article\n",
        "7. category - category of news article\n",
        "8. language - language of news article\n",
        "9. country - country name\n",
        "10. published_at - published date\n",
        "\n",
        "#### news_sentiment.csv\n",
        "\n",
        "1. published_at - published date\n",
        "2. title - title of news article \n",
        "3. description - description of news article\n",
        "4. url - url of news article\n",
        "5. sentiment - news sentiment\n",
        "6. sentiment_score - news sentiment score between 0 to 1\n",
        "\n"
      ]
    },
    {
      "cell_type": "markdown",
      "metadata": {
        "id": "zialb1ydvR1b"
      },
      "source": [
        "## Installing packages\n"
      ]
    },
    {
      "cell_type": "code",
      "execution_count": 1,
      "metadata": {
        "colab": {
          "base_uri": "https://localhost:8080/"
        },
        "id": "HCLQrst7k_bo",
        "outputId": "8a35b7c8-f1ee-4b15-8db1-0a93ec8fa5b7"
      },
      "outputs": [
        {
          "name": "stdout",
          "output_type": "stream",
          "text": [
            "Looking in indexes: https://pypi.org/simple, https://us-python.pkg.dev/colab-wheels/public/simple/\n",
            "Collecting yfinance\n",
            "  Downloading yfinance-0.2.4-py2.py3-none-any.whl (51 kB)\n",
            "\u001b[2K     \u001b[90m━━━━━━━━━━━━━━━━━━━━━━━━━━━━━━━━━━━━━━━━\u001b[0m \u001b[32m51.4/51.4 KB\u001b[0m \u001b[31m2.1 MB/s\u001b[0m eta \u001b[36m0:00:00\u001b[0m\n",
            "\u001b[?25hRequirement already satisfied: multitasking>=0.0.7 in /usr/local/lib/python3.8/dist-packages (from yfinance) (0.0.11)\n",
            "Collecting cryptography>=3.3.2\n",
            "  Downloading cryptography-39.0.0-cp36-abi3-manylinux_2_28_x86_64.whl (4.2 MB)\n",
            "\u001b[2K     \u001b[90m━━━━━━━━━━━━━━━━━━━━━━━━━━━━━━━━━━━━━━━━\u001b[0m \u001b[32m4.2/4.2 MB\u001b[0m \u001b[31m31.4 MB/s\u001b[0m eta \u001b[36m0:00:00\u001b[0m\n",
            "\u001b[?25hRequirement already satisfied: lxml>=4.9.1 in /usr/local/lib/python3.8/dist-packages (from yfinance) (4.9.2)\n",
            "Collecting frozendict>=2.3.4\n",
            "  Downloading frozendict-2.3.4-cp38-cp38-manylinux_2_17_x86_64.manylinux2014_x86_64.whl (110 kB)\n",
            "\u001b[2K     \u001b[90m━━━━━━━━━━━━━━━━━━━━━━━━━━━━━━━━━━━━━━━\u001b[0m \u001b[32m111.0/111.0 KB\u001b[0m \u001b[31m6.8 MB/s\u001b[0m eta \u001b[36m0:00:00\u001b[0m\n",
            "\u001b[?25hCollecting beautifulsoup4>=4.11.1\n",
            "  Downloading beautifulsoup4-4.11.1-py3-none-any.whl (128 kB)\n",
            "\u001b[2K     \u001b[90m━━━━━━━━━━━━━━━━━━━━━━━━━━━━━━━━━━━━━━━\u001b[0m \u001b[32m128.2/128.2 KB\u001b[0m \u001b[31m6.0 MB/s\u001b[0m eta \u001b[36m0:00:00\u001b[0m\n",
            "\u001b[?25hRequirement already satisfied: appdirs>=1.4.4 in /usr/local/lib/python3.8/dist-packages (from yfinance) (1.4.4)\n",
            "Collecting html5lib>=1.1\n",
            "  Downloading html5lib-1.1-py2.py3-none-any.whl (112 kB)\n",
            "\u001b[2K     \u001b[90m━━━━━━━━━━━━━━━━━━━━━━━━━━━━━━━━━━━━━━━\u001b[0m \u001b[32m112.2/112.2 KB\u001b[0m \u001b[31m8.0 MB/s\u001b[0m eta \u001b[36m0:00:00\u001b[0m\n",
            "\u001b[?25hRequirement already satisfied: pytz>=2022.5 in /usr/local/lib/python3.8/dist-packages (from yfinance) (2022.7)\n",
            "Requirement already satisfied: pandas>=1.3.0 in /usr/local/lib/python3.8/dist-packages (from yfinance) (1.3.5)\n",
            "Requirement already satisfied: numpy>=1.16.5 in /usr/local/lib/python3.8/dist-packages (from yfinance) (1.21.6)\n",
            "Collecting requests>=2.26\n",
            "  Downloading requests-2.28.2-py3-none-any.whl (62 kB)\n",
            "\u001b[2K     \u001b[90m━━━━━━━━━━━━━━━━━━━━━━━━━━━━━━━━━━━━━━━━\u001b[0m \u001b[32m62.8/62.8 KB\u001b[0m \u001b[31m3.3 MB/s\u001b[0m eta \u001b[36m0:00:00\u001b[0m\n",
            "\u001b[?25hCollecting soupsieve>1.2\n",
            "  Downloading soupsieve-2.3.2.post1-py3-none-any.whl (37 kB)\n",
            "Requirement already satisfied: cffi>=1.12 in /usr/local/lib/python3.8/dist-packages (from cryptography>=3.3.2->yfinance) (1.15.1)\n",
            "Requirement already satisfied: webencodings in /usr/local/lib/python3.8/dist-packages (from html5lib>=1.1->yfinance) (0.5.1)\n",
            "Requirement already satisfied: six>=1.9 in /usr/local/lib/python3.8/dist-packages (from html5lib>=1.1->yfinance) (1.15.0)\n",
            "Requirement already satisfied: python-dateutil>=2.7.3 in /usr/local/lib/python3.8/dist-packages (from pandas>=1.3.0->yfinance) (2.8.2)\n",
            "Requirement already satisfied: charset-normalizer<4,>=2 in /usr/local/lib/python3.8/dist-packages (from requests>=2.26->yfinance) (2.1.1)\n",
            "Requirement already satisfied: idna<4,>=2.5 in /usr/local/lib/python3.8/dist-packages (from requests>=2.26->yfinance) (2.10)\n",
            "Requirement already satisfied: urllib3<1.27,>=1.21.1 in /usr/local/lib/python3.8/dist-packages (from requests>=2.26->yfinance) (1.24.3)\n",
            "Requirement already satisfied: certifi>=2017.4.17 in /usr/local/lib/python3.8/dist-packages (from requests>=2.26->yfinance) (2022.12.7)\n",
            "Requirement already satisfied: pycparser in /usr/local/lib/python3.8/dist-packages (from cffi>=1.12->cryptography>=3.3.2->yfinance) (2.21)\n",
            "Installing collected packages: soupsieve, requests, html5lib, frozendict, cryptography, beautifulsoup4, yfinance\n",
            "  Attempting uninstall: requests\n",
            "    Found existing installation: requests 2.25.1\n",
            "    Uninstalling requests-2.25.1:\n",
            "      Successfully uninstalled requests-2.25.1\n",
            "  Attempting uninstall: html5lib\n",
            "    Found existing installation: html5lib 1.0.1\n",
            "    Uninstalling html5lib-1.0.1:\n",
            "      Successfully uninstalled html5lib-1.0.1\n",
            "  Attempting uninstall: beautifulsoup4\n",
            "    Found existing installation: beautifulsoup4 4.6.3\n",
            "    Uninstalling beautifulsoup4-4.6.3:\n",
            "      Successfully uninstalled beautifulsoup4-4.6.3\n",
            "Successfully installed beautifulsoup4-4.11.1 cryptography-39.0.0 frozendict-2.3.4 html5lib-1.1 requests-2.28.2 soupsieve-2.3.2.post1 yfinance-0.2.4\n"
          ]
        }
      ],
      "source": [
        "# Install Yahoo Finance package\n",
        "%pip install yfinance"
      ]
    },
    {
      "cell_type": "code",
      "execution_count": 70,
      "metadata": {
        "colab": {
          "base_uri": "https://localhost:8080/"
        },
        "id": "t3byQgWWBftq",
        "outputId": "59cb0e38-4178-486c-c227-cf5aa21f2dbe"
      },
      "outputs": [
        {
          "name": "stdout",
          "output_type": "stream",
          "text": [
            "\u001b[33mWARNING: Ignoring invalid distribution -rpcio (/Users/ashwin/.conda/envs/jup/lib/python3.8/site-packages)\u001b[0m\u001b[33m\n",
            "\u001b[0m\u001b[33mWARNING: Ignoring invalid distribution -rpcio (/Users/ashwin/.conda/envs/jup/lib/python3.8/site-packages)\u001b[0m\u001b[33m\n",
            "\u001b[0mCollecting firebase-admin\n",
            "  Using cached firebase_admin-6.0.1-py3-none-any.whl (119 kB)\n",
            "Collecting google-api-python-client>=1.7.8\n",
            "  Using cached google_api_python_client-2.74.0-py2.py3-none-any.whl (10.9 MB)\n",
            "Collecting cachecontrol>=0.12.6\n",
            "  Using cached CacheControl-0.12.11-py2.py3-none-any.whl (21 kB)\n",
            "Collecting google-cloud-storage>=1.37.1\n",
            "  Using cached google_cloud_storage-2.7.0-py2.py3-none-any.whl (110 kB)\n",
            "Collecting google-api-core[grpc]<3.0.0dev,>=1.22.1\n",
            "  Using cached google_api_core-2.11.0-py3-none-any.whl (120 kB)\n",
            "Requirement already satisfied: pyjwt[crypto]>=2.5.0 in /Users/ashwin/.conda/envs/jup/lib/python3.8/site-packages (from firebase-admin) (2.6.0)\n",
            "Collecting google-cloud-firestore>=2.1.0\n",
            "  Using cached google_cloud_firestore-2.9.1-py2.py3-none-any.whl (265 kB)\n",
            "Requirement already satisfied: msgpack>=0.5.2 in /Users/ashwin/.conda/envs/jup/lib/python3.8/site-packages (from cachecontrol>=0.12.6->firebase-admin) (1.0.4)\n",
            "Requirement already satisfied: requests in /Users/ashwin/.conda/envs/jup/lib/python3.8/site-packages (from cachecontrol>=0.12.6->firebase-admin) (2.28.2)\n",
            "Collecting protobuf!=3.20.0,!=3.20.1,!=4.21.0,!=4.21.1,!=4.21.2,!=4.21.3,!=4.21.4,!=4.21.5,<5.0.0dev,>=3.19.5\n",
            "  Using cached protobuf-4.21.12-cp37-abi3-macosx_10_9_universal2.whl (486 kB)\n",
            "Collecting google-auth<3.0dev,>=2.14.1\n",
            "  Using cached google_auth-2.16.0-py2.py3-none-any.whl (177 kB)\n",
            "Collecting googleapis-common-protos<2.0dev,>=1.56.2\n",
            "  Using cached googleapis_common_protos-1.58.0-py2.py3-none-any.whl (223 kB)\n",
            "Requirement already satisfied: grpcio<2.0dev,>=1.33.2 in /Users/ashwin/.conda/envs/jup/lib/python3.8/site-packages (from google-api-core[grpc]<3.0.0dev,>=1.22.1->firebase-admin) (1.51.1)\n",
            "Collecting grpcio-status<2.0dev,>=1.33.2\n",
            "  Using cached grpcio_status-1.51.1-py3-none-any.whl (5.1 kB)\n",
            "Requirement already satisfied: uritemplate<5,>=3.0.1 in /Users/ashwin/.conda/envs/jup/lib/python3.8/site-packages (from google-api-python-client>=1.7.8->firebase-admin) (4.1.1)\n",
            "Requirement already satisfied: httplib2<1dev,>=0.15.0 in /Users/ashwin/.conda/envs/jup/lib/python3.8/site-packages (from google-api-python-client>=1.7.8->firebase-admin) (0.21.0)\n",
            "Collecting google-auth-httplib2>=0.1.0\n",
            "  Using cached google_auth_httplib2-0.1.0-py2.py3-none-any.whl (9.3 kB)\n",
            "Collecting google-cloud-core<3.0.0dev,>=1.4.1\n",
            "  Using cached google_cloud_core-2.3.2-py2.py3-none-any.whl (29 kB)\n",
            "Requirement already satisfied: proto-plus<2.0.0dev,>=1.22.0 in /Users/ashwin/.conda/envs/jup/lib/python3.8/site-packages (from google-cloud-firestore>=2.1.0->firebase-admin) (1.22.1)\n",
            "Collecting google-resumable-media>=2.3.2\n",
            "  Using cached google_resumable_media-2.4.1-py2.py3-none-any.whl (77 kB)\n",
            "Requirement already satisfied: cryptography>=3.4.0 in /Users/ashwin/.conda/envs/jup/lib/python3.8/site-packages (from pyjwt[crypto]>=2.5.0->firebase-admin) (39.0.0)\n",
            "Requirement already satisfied: cffi>=1.12 in /Users/ashwin/.conda/envs/jup/lib/python3.8/site-packages (from cryptography>=3.4.0->pyjwt[crypto]>=2.5.0->firebase-admin) (1.15.1)\n",
            "Requirement already satisfied: cachetools<6.0,>=2.0.0 in /Users/ashwin/.conda/envs/jup/lib/python3.8/site-packages (from google-auth<3.0dev,>=2.14.1->google-api-core[grpc]<3.0.0dev,>=1.22.1->firebase-admin) (4.2.4)\n",
            "Requirement already satisfied: pyasn1-modules>=0.2.1 in /Users/ashwin/.conda/envs/jup/lib/python3.8/site-packages (from google-auth<3.0dev,>=2.14.1->google-api-core[grpc]<3.0.0dev,>=1.22.1->firebase-admin) (0.2.8)\n",
            "Requirement already satisfied: six>=1.9.0 in /Users/ashwin/.conda/envs/jup/lib/python3.8/site-packages (from google-auth<3.0dev,>=2.14.1->google-api-core[grpc]<3.0.0dev,>=1.22.1->firebase-admin) (1.16.0)\n",
            "Requirement already satisfied: rsa<5,>=3.1.4 in /Users/ashwin/.conda/envs/jup/lib/python3.8/site-packages (from google-auth<3.0dev,>=2.14.1->google-api-core[grpc]<3.0.0dev,>=1.22.1->firebase-admin) (4.7.2)\n",
            "Collecting google-crc32c<2.0dev,>=1.0\n",
            "  Using cached google_crc32c-1.5.0-cp38-cp38-macosx_10_9_universal2.whl (32 kB)\n",
            "Requirement already satisfied: pyparsing!=3.0.0,!=3.0.1,!=3.0.2,!=3.0.3,<4,>=2.4.2 in /Users/ashwin/.conda/envs/jup/lib/python3.8/site-packages (from httplib2<1dev,>=0.15.0->google-api-python-client>=1.7.8->firebase-admin) (3.0.9)\n",
            "Requirement already satisfied: charset-normalizer<4,>=2 in /Users/ashwin/.conda/envs/jup/lib/python3.8/site-packages (from requests->cachecontrol>=0.12.6->firebase-admin) (2.1.1)\n",
            "Requirement already satisfied: certifi>=2017.4.17 in /Users/ashwin/.conda/envs/jup/lib/python3.8/site-packages (from requests->cachecontrol>=0.12.6->firebase-admin) (2022.12.7)\n",
            "Requirement already satisfied: idna<4,>=2.5 in /Users/ashwin/.conda/envs/jup/lib/python3.8/site-packages (from requests->cachecontrol>=0.12.6->firebase-admin) (3.4)\n",
            "Requirement already satisfied: urllib3<1.27,>=1.21.1 in /Users/ashwin/.conda/envs/jup/lib/python3.8/site-packages (from requests->cachecontrol>=0.12.6->firebase-admin) (1.26.14)\n",
            "Requirement already satisfied: pycparser in /Users/ashwin/.conda/envs/jup/lib/python3.8/site-packages (from cffi>=1.12->cryptography>=3.4.0->pyjwt[crypto]>=2.5.0->firebase-admin) (2.21)\n",
            "Requirement already satisfied: pyasn1<0.5.0,>=0.4.6 in /Users/ashwin/.conda/envs/jup/lib/python3.8/site-packages (from pyasn1-modules>=0.2.1->google-auth<3.0dev,>=2.14.1->google-api-core[grpc]<3.0.0dev,>=1.22.1->firebase-admin) (0.4.8)\n",
            "\u001b[33mWARNING: Ignoring invalid distribution -rpcio (/Users/ashwin/.conda/envs/jup/lib/python3.8/site-packages)\u001b[0m\u001b[33m\n",
            "\u001b[0mInstalling collected packages: protobuf, google-crc32c, googleapis-common-protos, google-resumable-media, google-auth, cachecontrol, grpcio-status, google-auth-httplib2, google-api-core, google-cloud-core, google-api-python-client, google-cloud-storage, google-cloud-firestore, firebase-admin\n",
            "  Attempting uninstall: protobuf\n",
            "\u001b[33m    WARNING: Ignoring invalid distribution -rpcio (/Users/ashwin/.conda/envs/jup/lib/python3.8/site-packages)\u001b[0m\u001b[33m\n",
            "\u001b[0m    Found existing installation: protobuf 3.20.1\n",
            "    Uninstalling protobuf-3.20.1:\n",
            "      Successfully uninstalled protobuf-3.20.1\n",
            "  Attempting uninstall: google-auth\n",
            "\u001b[33m    WARNING: Ignoring invalid distribution -rpcio (/Users/ashwin/.conda/envs/jup/lib/python3.8/site-packages)\u001b[0m\u001b[33m\n",
            "\u001b[0m    Found existing installation: google-auth 2.3.3\n",
            "    Uninstalling google-auth-2.3.3:\n",
            "      Successfully uninstalled google-auth-2.3.3\n",
            "\u001b[33mWARNING: Ignoring invalid distribution -rpcio (/Users/ashwin/.conda/envs/jup/lib/python3.8/site-packages)\u001b[0m\u001b[33m\n",
            "\u001b[0m\u001b[33mWARNING: Ignoring invalid distribution -rpcio (/Users/ashwin/.conda/envs/jup/lib/python3.8/site-packages)\u001b[0m\u001b[33m\n",
            "\u001b[0m\u001b[33mWARNING: Ignoring invalid distribution -rpcio (/Users/ashwin/.conda/envs/jup/lib/python3.8/site-packages)\u001b[0m\u001b[33m\n",
            "\u001b[0m\u001b[33mWARNING: Ignoring invalid distribution -rpcio (/Users/ashwin/.conda/envs/jup/lib/python3.8/site-packages)\u001b[0m\u001b[33m\n",
            "\u001b[0m\u001b[33mWARNING: Ignoring invalid distribution -rpcio (/Users/ashwin/.conda/envs/jup/lib/python3.8/site-packages)\u001b[0m\u001b[33m\n",
            "\u001b[0m\u001b[33mWARNING: Ignoring invalid distribution -rpcio (/Users/ashwin/.conda/envs/jup/lib/python3.8/site-packages)\u001b[0m\u001b[33m\n",
            "\u001b[0m\u001b[33mWARNING: Ignoring invalid distribution -rpcio (/Users/ashwin/.conda/envs/jup/lib/python3.8/site-packages)\u001b[0m\u001b[33m\n",
            "\u001b[0m\u001b[33mWARNING: Ignoring invalid distribution -rpcio (/Users/ashwin/.conda/envs/jup/lib/python3.8/site-packages)\u001b[0m\u001b[33m\n",
            "\u001b[0m\u001b[33mWARNING: Ignoring invalid distribution -rpcio (/Users/ashwin/.conda/envs/jup/lib/python3.8/site-packages)\u001b[0m\u001b[33m\n",
            "\u001b[0m\u001b[33mWARNING: Ignoring invalid distribution -rpcio (/Users/ashwin/.conda/envs/jup/lib/python3.8/site-packages)\u001b[0m\u001b[33m\n",
            "\u001b[0m\u001b[33mWARNING: Ignoring invalid distribution -rpcio (/Users/ashwin/.conda/envs/jup/lib/python3.8/site-packages)\u001b[0m\u001b[33m\n",
            "\u001b[0m\u001b[33mWARNING: Ignoring invalid distribution -rpcio (/Users/ashwin/.conda/envs/jup/lib/python3.8/site-packages)\u001b[0m\u001b[33m\n",
            "\u001b[0m\u001b[33mWARNING: Ignoring invalid distribution -rpcio (/Users/ashwin/.conda/envs/jup/lib/python3.8/site-packages)\u001b[0m\u001b[33m\n",
            "\u001b[0m\u001b[33mWARNING: Ignoring invalid distribution -rpcio (/Users/ashwin/.conda/envs/jup/lib/python3.8/site-packages)\u001b[0m\u001b[33m\n",
            "\u001b[0mSuccessfully installed cachecontrol-0.12.11 firebase-admin-6.0.1 google-api-core-2.11.0 google-api-python-client-2.74.0 google-auth-2.16.0 google-auth-httplib2-0.1.0 google-cloud-core-2.3.2 google-cloud-firestore-2.9.1 google-cloud-storage-2.7.0 google-crc32c-1.5.0 google-resumable-media-2.4.1 googleapis-common-protos-1.58.0 grpcio-status-1.51.1 protobuf-4.21.12\n",
            "\u001b[33mWARNING: Ignoring invalid distribution -rpcio (/Users/ashwin/.conda/envs/jup/lib/python3.8/site-packages)\u001b[0m\u001b[33m\n",
            "\u001b[0m\u001b[33mWARNING: Ignoring invalid distribution -rpcio (/Users/ashwin/.conda/envs/jup/lib/python3.8/site-packages)\u001b[0m\u001b[33m\n",
            "\u001b[0m\u001b[33mWARNING: Ignoring invalid distribution -rpcio (/Users/ashwin/.conda/envs/jup/lib/python3.8/site-packages)\u001b[0m\u001b[33m\n",
            "\u001b[0m"
          ]
        }
      ],
      "source": [
        "# Install Google cloud helper package\n",
        "%pip install firebase-admin"
      ]
    },
    {
      "cell_type": "code",
      "execution_count": 2,
      "metadata": {
        "colab": {
          "base_uri": "https://localhost:8080/"
        },
        "id": "linXh3hGCfyh",
        "outputId": "ef023217-5a12-4cf5-f5e5-8175407280fa"
      },
      "outputs": [
        {
          "name": "stdout",
          "output_type": "stream",
          "text": [
            "\u001b[33mWARNING: Ignoring invalid distribution -rpcio (/Users/ashwin/.conda/envs/jup/lib/python3.8/site-packages)\u001b[0m\u001b[33m\n",
            "\u001b[0m\u001b[33mWARNING: Ignoring invalid distribution -rpcio (/Users/ashwin/.conda/envs/jup/lib/python3.8/site-packages)\u001b[0m\u001b[33m\n",
            "\u001b[0mRequirement already satisfied: transformers in /Users/ashwin/.conda/envs/jup/lib/python3.8/site-packages (4.26.0)\n",
            "Requirement already satisfied: pyyaml>=5.1 in /Users/ashwin/.conda/envs/jup/lib/python3.8/site-packages (from transformers) (6.0)\n",
            "Requirement already satisfied: numpy>=1.17 in /Users/ashwin/.conda/envs/jup/lib/python3.8/site-packages (from transformers) (1.21.6)\n",
            "Requirement already satisfied: packaging>=20.0 in /Users/ashwin/.conda/envs/jup/lib/python3.8/site-packages (from transformers) (23.0)\n",
            "Requirement already satisfied: requests in /Users/ashwin/.conda/envs/jup/lib/python3.8/site-packages (from transformers) (2.28.2)\n",
            "Requirement already satisfied: filelock in /Users/ashwin/.conda/envs/jup/lib/python3.8/site-packages (from transformers) (3.9.0)\n",
            "Requirement already satisfied: regex!=2019.12.17 in /Users/ashwin/.conda/envs/jup/lib/python3.8/site-packages (from transformers) (2022.10.31)\n",
            "Requirement already satisfied: huggingface-hub<1.0,>=0.11.0 in /Users/ashwin/.conda/envs/jup/lib/python3.8/site-packages (from transformers) (0.11.1)\n",
            "Requirement already satisfied: tokenizers!=0.11.3,<0.14,>=0.11.1 in /Users/ashwin/.conda/envs/jup/lib/python3.8/site-packages (from transformers) (0.13.2)\n",
            "Requirement already satisfied: tqdm>=4.27 in /Users/ashwin/.conda/envs/jup/lib/python3.8/site-packages (from transformers) (4.64.1)\n",
            "Requirement already satisfied: typing-extensions>=3.7.4.3 in /Users/ashwin/.conda/envs/jup/lib/python3.8/site-packages (from huggingface-hub<1.0,>=0.11.0->transformers) (3.10.0.2)\n",
            "Requirement already satisfied: charset-normalizer<4,>=2 in /Users/ashwin/.conda/envs/jup/lib/python3.8/site-packages (from requests->transformers) (2.1.1)\n",
            "Requirement already satisfied: urllib3<1.27,>=1.21.1 in /Users/ashwin/.conda/envs/jup/lib/python3.8/site-packages (from requests->transformers) (1.26.14)\n",
            "Requirement already satisfied: certifi>=2017.4.17 in /Users/ashwin/.conda/envs/jup/lib/python3.8/site-packages (from requests->transformers) (2022.12.7)\n",
            "Requirement already satisfied: idna<4,>=2.5 in /Users/ashwin/.conda/envs/jup/lib/python3.8/site-packages (from requests->transformers) (3.4)\n",
            "\u001b[33mWARNING: Ignoring invalid distribution -rpcio (/Users/ashwin/.conda/envs/jup/lib/python3.8/site-packages)\u001b[0m\u001b[33m\n",
            "\u001b[0m\u001b[33mWARNING: Ignoring invalid distribution -rpcio (/Users/ashwin/.conda/envs/jup/lib/python3.8/site-packages)\u001b[0m\u001b[33m\n",
            "\u001b[0m\u001b[33mWARNING: Ignoring invalid distribution -rpcio (/Users/ashwin/.conda/envs/jup/lib/python3.8/site-packages)\u001b[0m\u001b[33m\n",
            "\u001b[0m\u001b[33mWARNING: Ignoring invalid distribution -rpcio (/Users/ashwin/.conda/envs/jup/lib/python3.8/site-packages)\u001b[0m\u001b[33m\n",
            "\u001b[0mNote: you may need to restart the kernel to use updated packages.\n",
            "\u001b[33mWARNING: Ignoring invalid distribution -rpcio (/Users/ashwin/.conda/envs/jup/lib/python3.8/site-packages)\u001b[0m\u001b[33m\n",
            "\u001b[0m\u001b[33mWARNING: Ignoring invalid distribution -rpcio (/Users/ashwin/.conda/envs/jup/lib/python3.8/site-packages)\u001b[0m\u001b[33m\n",
            "\u001b[0mCollecting pmdarima\n",
            "  Using cached pmdarima-2.0.2-cp38-cp38-macosx_11_0_arm64.whl (573 kB)\n",
            "Requirement already satisfied: joblib>=0.11 in /Users/ashwin/.conda/envs/jup/lib/python3.8/site-packages (from pmdarima) (1.2.0)\n",
            "Requirement already satisfied: scikit-learn>=0.22 in /Users/ashwin/.conda/envs/jup/lib/python3.8/site-packages (from pmdarima) (1.0.1)\n",
            "Requirement already satisfied: pandas>=0.19 in /Users/ashwin/.conda/envs/jup/lib/python3.8/site-packages (from pmdarima) (1.3.4)\n",
            "Requirement already satisfied: Cython!=0.29.18,!=0.29.31,>=0.29 in /Users/ashwin/.conda/envs/jup/lib/python3.8/site-packages (from pmdarima) (0.29.33)\n",
            "Requirement already satisfied: scipy>=1.3.2 in /Users/ashwin/.conda/envs/jup/lib/python3.8/site-packages (from pmdarima) (1.10.0)\n",
            "Requirement already satisfied: setuptools!=50.0.0,>=38.6.0 in /Users/ashwin/.conda/envs/jup/lib/python3.8/site-packages (from pmdarima) (62.1.0)\n",
            "Requirement already satisfied: statsmodels>=0.13.2 in /Users/ashwin/.conda/envs/jup/lib/python3.8/site-packages (from pmdarima) (0.13.5)\n",
            "Requirement already satisfied: numpy>=1.21.2 in /Users/ashwin/.conda/envs/jup/lib/python3.8/site-packages (from pmdarima) (1.21.6)\n",
            "Requirement already satisfied: urllib3 in /Users/ashwin/.conda/envs/jup/lib/python3.8/site-packages (from pmdarima) (1.26.14)\n",
            "Requirement already satisfied: python-dateutil>=2.7.3 in /Users/ashwin/.conda/envs/jup/lib/python3.8/site-packages (from pandas>=0.19->pmdarima) (2.8.2)\n",
            "Requirement already satisfied: pytz>=2017.3 in /Users/ashwin/.conda/envs/jup/lib/python3.8/site-packages (from pandas>=0.19->pmdarima) (2022.7.1)\n",
            "Requirement already satisfied: threadpoolctl>=2.0.0 in /Users/ashwin/.conda/envs/jup/lib/python3.8/site-packages (from scikit-learn>=0.22->pmdarima) (3.1.0)\n",
            "Requirement already satisfied: packaging>=21.3 in /Users/ashwin/.conda/envs/jup/lib/python3.8/site-packages (from statsmodels>=0.13.2->pmdarima) (23.0)\n",
            "Requirement already satisfied: patsy>=0.5.2 in /Users/ashwin/.conda/envs/jup/lib/python3.8/site-packages (from statsmodels>=0.13.2->pmdarima) (0.5.3)\n",
            "Requirement already satisfied: six in /Users/ashwin/.conda/envs/jup/lib/python3.8/site-packages (from patsy>=0.5.2->statsmodels>=0.13.2->pmdarima) (1.16.0)\n",
            "\u001b[33mWARNING: Ignoring invalid distribution -rpcio (/Users/ashwin/.conda/envs/jup/lib/python3.8/site-packages)\u001b[0m\u001b[33m\n",
            "\u001b[0mInstalling collected packages: pmdarima\n",
            "\u001b[33mWARNING: Ignoring invalid distribution -rpcio (/Users/ashwin/.conda/envs/jup/lib/python3.8/site-packages)\u001b[0m\u001b[33m\n",
            "\u001b[0mSuccessfully installed pmdarima-2.0.2\n",
            "\u001b[33mWARNING: Ignoring invalid distribution -rpcio (/Users/ashwin/.conda/envs/jup/lib/python3.8/site-packages)\u001b[0m\u001b[33m\n",
            "\u001b[0m\u001b[33mWARNING: Ignoring invalid distribution -rpcio (/Users/ashwin/.conda/envs/jup/lib/python3.8/site-packages)\u001b[0m\u001b[33m\n",
            "\u001b[0m\u001b[33mWARNING: Ignoring invalid distribution -rpcio (/Users/ashwin/.conda/envs/jup/lib/python3.8/site-packages)\u001b[0m\u001b[33m\n",
            "\u001b[0mNote: you may need to restart the kernel to use updated packages.\n"
          ]
        }
      ],
      "source": [
        "# Install Transformers package for transfer learning\n",
        "%pip install transformers\n",
        "\n",
        "#Install pmdarima package for ARIMA\n",
        "%pip install pmdarima"
      ]
    },
    {
      "attachments": {},
      "cell_type": "markdown",
      "metadata": {},
      "source": [
        "## Importing packages"
      ]
    },
    {
      "cell_type": "code",
      "execution_count": null,
      "metadata": {},
      "outputs": [],
      "source": [
        "# Optional: To fix descriptors not found error in transformers package\n",
        "# %pip install grpcio-status==1.33.2 protobuf==3.19.6"
      ]
    },
    {
      "cell_type": "code",
      "execution_count": 1,
      "metadata": {
        "id": "sriHmnFHBftq"
      },
      "outputs": [],
      "source": [
        "# Import other libraries \n",
        "import yfinance as yf\n",
        "import pandas as pd\n",
        "import numpy as np\n",
        "import os\n",
        "import json\n",
        "import datetime\n",
        "from datetime import date,timedelta\n",
        "import warnings\n",
        "import http.client, urllib.parse\n",
        "\n",
        "warnings.filterwarnings(\"ignore\")\n",
        "from transformers import AutoTokenizer, AutoModelForSequenceClassification,pipeline\n",
        "pd.set_option('display.max_columns', 500)\n",
        "pd.set_option('display.max_rows', 500)"
      ]
    },
    {
      "attachments": {},
      "cell_type": "markdown",
      "metadata": {},
      "source": [
        "## Define parameters"
      ]
    },
    {
      "cell_type": "code",
      "execution_count": 2,
      "metadata": {
        "id": "Lm-n-PuTBftr"
      },
      "outputs": [],
      "source": [
        "# company symbol and name\n",
        "company_symbol=\"ICICIBANK.BO\"\n",
        "company_name=\"ICICI\""
      ]
    },
    {
      "cell_type": "code",
      "execution_count": 22,
      "metadata": {},
      "outputs": [],
      "source": [
        "\n",
        "#Initialise today date\n",
        "today = str(date.today())\n",
        "yesterday = str(date.today()- timedelta(days = 1))\n",
        "start_date = \"2018-01-31\"\n",
        "\n",
        "# flag variables\n",
        "news_inserted=False\n",
        "\n",
        "#secret key of mediastack api\n",
        "mediastack_api_token = \"9f774391108184659c6eecd8dfdcd269\"\n",
        "\n",
        "# input file paths\n",
        "stock_history_file_path='./input/{}_stock_history.csv'.format(company_name)\n",
        "news_file_path='./input/{}_news.json'.format(company_name)\n",
        "news_sentiment_file_path='./input/{}_news_sentiment.csv'.format(company_name)\n",
        "\n",
        "# output file paths\n",
        "output_stock_history_file_path='./{}_stock_history.csv'.format(company_name)\n",
        "output_news_file_path='./{}_news.json'.format(company_name)\n",
        "output_news_sentiment_file_path='./{}_news_sentiment.csv'.format(company_name)\n",
        "\n",
        "# parameters for mediastack api\n",
        "search_query=company_name\n",
        "conn = http.client.HTTPConnection('api.mediastack.com')\n",
        "def get_news_params(offset):\n",
        "    return urllib.parse.urlencode({\n",
        "    'keywords': search_query,\n",
        "    'access_key': mediastack_api_token,\n",
        "    'sort': 'published_desc',\n",
        "    'offset': offset,\n",
        "    'limit': 100,\n",
        "    'languages': 'en',\n",
        "    })"
      ]
    },
    {
      "cell_type": "code",
      "execution_count": 23,
      "metadata": {},
      "outputs": [
        {
          "data": {
            "text/plain": [
              "'2018-01-312023-02-06'"
            ]
          },
          "execution_count": 23,
          "metadata": {},
          "output_type": "execute_result"
        }
      ],
      "source": [
        "start_date+today"
      ]
    },
    {
      "cell_type": "markdown",
      "metadata": {
        "id": "WTy7yaHkBftt"
      },
      "source": [
        "## Create dataset"
      ]
    },
    {
      "cell_type": "code",
      "execution_count": 208,
      "metadata": {
        "id": "Xkkmn0NUBftu"
      },
      "outputs": [],
      "source": [
        "ticker_object=yf.Ticker(company_symbol)"
      ]
    },
    {
      "cell_type": "code",
      "execution_count": 18,
      "metadata": {
        "id": "oIoGkbV1Bftu"
      },
      "outputs": [],
      "source": [
        "def create_stock_history_dataset():\n",
        "    fin_stock_history=ticker_object.history(start=start_date, end=today).reset_index()\n",
        "    return fin_stock_history\n",
        "\n",
        "def update_stock_history_dataset():\n",
        "    fin_stock_history=pd.read_csv(stock_history_file_path)\n",
        "    fin_stock_history.Date=pd.to_datetime(fin_stock_history.Date, format='%Y/%m/%d')\n",
        "    today_fin_stock_data=ticker_object.history(period=\"3d\")\n",
        "    today_fin_stock_data=today_fin_stock_data.reset_index()\n",
        "    last_stock_date=str(today_fin_stock_data.loc[0,'Date']).split()[0]\n",
        "    if last_stock_date == fin_stock_history['Date'].dt.strftime('%Y-%m-%d')[len(fin_stock_history)-1]: #if already inserted \n",
        "        fin_stock_history.iloc[-1:,:]=today_fin_stock_data.iloc[-1].tolist()\n",
        "    else:\n",
        "        last_position=len(fin_stock_history)\n",
        "        fin_stock_history.loc[last_position]=today_fin_stock_data.iloc[-1].tolist()\n",
        "    return fin_stock_history"
      ]
    },
    {
      "cell_type": "code",
      "execution_count": 19,
      "metadata": {
        "id": "Xb4QuWHkBftv"
      },
      "outputs": [
        {
          "name": "stdout",
          "output_type": "stream",
          "text": [
            "Created new stock history dataset\n"
          ]
        }
      ],
      "source": [
        "# create stock market history dataset\n",
        "ticker_object=yf.Ticker(company_symbol)\n",
        "if os.path.exists(stock_history_file_path)==False:\n",
        "    fin_stock_history=create_stock_history_dataset()\n",
        "    print('Created new stock history dataset')\n",
        "else:\n",
        "    fin_stock_history=update_stock_history_dataset()\n",
        "    print('Updated existing stock history dataset')\n",
        "\n",
        "fin_stock_history.to_csv(output_stock_history_file_path,index=False)"
      ]
    },
    {
      "cell_type": "markdown",
      "metadata": {
        "id": "1Kb7tLvaBftv"
      },
      "source": [
        "## Create/Update news dataset"
      ]
    },
    {
      "cell_type": "code",
      "execution_count": 15,
      "metadata": {
        "id": "SSYLKQl_Bftw"
      },
      "outputs": [],
      "source": [
        "def create_news_dataset():\n",
        "    global res\n",
        "    print('Creating news dataset')\n",
        "    conn.request('GET', '/v1/news?{}'.format(get_news_params(0)))\n",
        "    res = conn.getresponse().read()\n",
        "    print(res)\n",
        "    fin_news=json.loads(res.decode('utf-8'))[\"data\"]\n",
        "    return fin_news\n",
        "\n",
        "def update_news_dataset():\n",
        "    print('Updating news dataset')\n",
        "    global news_inserted\n",
        "    with open(news_file_path,'r') as file:\n",
        "        fin_news=json.load(file)\n",
        "        for news in fin_news['articles']:\n",
        "            if news['published_at'].split('T')[0]==yesterday:\n",
        "                news_inserted=True\n",
        "                break\n",
        "        current_fin_news=None\n",
        "        if news_inserted==False:\n",
        "            conn.request('GET', '/v1/news?{}'.format(params))\n",
        "            res = conn.getresponse().read()\n",
        "            current_fin_news=json.loads(res.decode('utf-8'))[\"data\"]\n",
        "            fin_news['articles']+=current_fin_news\n",
        "        return fin_news['articles'],current_fin_news"
      ]
    },
    {
      "cell_type": "code",
      "execution_count": null,
      "metadata": {
        "id": "F3FzpggdBftw"
      },
      "outputs": [],
      "source": [
        "#create news dataset \n",
        "if os.path.exists(news_file_path)==False:\n",
        "    fin_news=create_news_dataset()\n",
        "    current_fin_news=fin_news.copy()\n",
        "else:\n",
        "    fin_news,current_fin_news=update_news_dataset()\n",
        "\n",
        "with open(output_news_file_path,'w') as file:\n",
        "    json.dump({\"articles\":fin_news},file)"
      ]
    },
    {
      "cell_type": "markdown",
      "metadata": {
        "id": "89AYg6svBftw"
      },
      "source": [
        "## Predict sentiment on articles\n"
      ]
    },
    {
      "cell_type": "code",
      "execution_count": 215,
      "metadata": {
        "colab": {
          "base_uri": "https://localhost:8080/",
          "height": 0,
          "referenced_widgets": [
            "e6679a4d12bb46fc9b6bc3b93564d403",
            "3db4702ac28b4a8dba726d5acc6ccc38",
            "c09e06af18fb420482556577250b5d85",
            "6a1175a467a645e1bfd988ad1ad76981",
            "bba495e617b143af9a30afd021f2083a",
            "9f0172d12d014e18956c605d545b856d",
            "a27e4fa486564d61b0141f3b2bbcb44e",
            "4c879976102047b491b6cab48e0bf009",
            "3338093df4aa48e28a545e1315dfce5d",
            "7a3bc4794d8545759520608ad7e7094d",
            "14c359bbf77347efba53837d2a8ecf43",
            "5d99bb6c18fe4f15a66754a55dce4ecd",
            "682aa7bcbded4b4facc06ed26704a27a",
            "b234a61ecb344969b33c1f7e4d297cd6",
            "4c26f8bb62fa4d8b8413121aa00db0a6",
            "909efd28b1b644fda0dd786193ccee85",
            "2cf325982ace45fd99bfee69a2a0ad6e",
            "440642eaf03045888a29f4f6c695e124",
            "7824dd92e2f74dd1bf9f7160352cb6b6",
            "9382414c64a8435689621134f2cd200e",
            "d77992abd030480b8085406eead3aebf",
            "50c3e9459078439482dcd5664729f207",
            "4b724c200c0242b8a1b9a5b59c07d32f",
            "7cd435948a7b4c82bd7fc8b13cc75404",
            "99984c9d13044894916c7ed3c8917a0a",
            "b7300a3ebe72445b9a8a8189c63b9ff5",
            "490314b251ac45e6a2fa416e82f7506c",
            "0158a467c4854b10b1958f934e1caf1d",
            "318824eda14d496fac1c2cc72773005c",
            "63a7eae756894ff9832e9919b99d539d",
            "324088b05ff1439793e8fa787a753bd9",
            "20be2daf64b04b698fd5ff88f9f0cf9d",
            "c000dd77d1ce4fdeb9d7654e906fa05a",
            "1ff9267e01164820bc1048522681da3a",
            "02aaa4a79c8941cf9fac6f71920412cd",
            "a84ee03c846f4d40b3c8a592244c49d0",
            "daaa5101fc3f4be980109db73d346846",
            "bc44d44c32d94c42a5901104a9d5ae9f",
            "05b3c442448746769229031f03da176a",
            "fd26d227ee594effbb07ead36259364b",
            "7d6a51a98ca24196b7d07a91a20cbdee",
            "58830963c7e24554b32973478592c3d1",
            "aab1fccfb9ec44ef81d40764b1101047",
            "5c47f2ec96234cdb9b88860970d6cc26",
            "a727a04e03d64baf8ec20f04a37e980e",
            "207652bd71324c5a97a44ce1f0ed9fef",
            "c1da93e71f944893af1a6013ffe15406",
            "d0f3651f8aa242f2ba539eece36d2468",
            "e06a6371000d44edb68314c4a4be09fd",
            "dbe0aec775614cd6a62f414183336fb3",
            "686d5878eaad4b839b88bdd27333754d",
            "c0877f62643947bd926046da5ba18f91",
            "ed4fb3c0018b4a28aa7c07da0d76787c",
            "f41b1150b86b46a89aa8244a09fcf8da",
            "33fdbefcecd943f888e5fac2699c2446"
          ]
        },
        "id": "6qioRKgkBftx",
        "outputId": "ceae6c81-c0ba-4d04-cbfb-6e710a4a300a"
      },
      "outputs": [],
      "source": [
        "tokenizer = AutoTokenizer.from_pretrained(\"ProsusAI/finbert\")\n",
        "model = AutoModelForSequenceClassification.from_pretrained(\"ProsusAI/finbert\")\n",
        "classifier = pipeline('sentiment-analysis', model=model, tokenizer=tokenizer)"
      ]
    },
    {
      "cell_type": "code",
      "execution_count": 217,
      "metadata": {
        "id": "MaL_4yJwBftx"
      },
      "outputs": [],
      "source": [
        "def create_news_sentiment_dataset(news_sentiments):\n",
        "    last_position=len(news_sentiments)\n",
        "    article_ind=last_position\n",
        "    title_description=[]\n",
        "    if current_fin_news!=None:\n",
        "        print('News not empty')\n",
        "        for article in current_fin_news:\n",
        "            title_description.append(article['title']+' '+article['description'])\n",
        "            news_sentiments.at[article_ind,'published_at']=article['published_at']\n",
        "            news_sentiments.at[article_ind,'title']=article['title']\n",
        "            news_sentiments.at[article_ind,'description']=article['description']\n",
        "            news_sentiments.at[article_ind,'url']=article['url']\n",
        "            article_ind+=1\n",
        "        news_label_and_scores=classifier(list(title_description))\n",
        "        labels=[pred['label'] for pred in news_label_and_scores]    \n",
        "        scores=[pred['score'] for pred in news_label_and_scores]\n",
        "        news_sentiments.at[last_position:,'sentiment']=labels\n",
        "        news_sentiments.at[last_position:,'sentiment_score']=scores\n",
        "    else:\n",
        "        print('News IS empty')\n",
        "    news_sentiments.to_csv(output_news_sentiment_file_path,index=None)  "
      ]
    },
    {
      "cell_type": "markdown",
      "metadata": {
        "id": "PomK_OLKBftx"
      },
      "source": [
        "## Add news sentiment"
      ]
    },
    {
      "cell_type": "code",
      "execution_count": 218,
      "metadata": {
        "id": "iRaCjafyBfty"
      },
      "outputs": [
        {
          "name": "stdout",
          "output_type": "stream",
          "text": [
            "News not empty\n"
          ]
        }
      ],
      "source": [
        "news_sentiments=None\n",
        "if os.path.exists(news_sentiment_file_path):\n",
        "    news_sentiments=pd.read_csv(news_sentiment_file_path,index_col=None)                     \n",
        "else:\n",
        "    news_sentiments=pd.DataFrame(columns=['published_at','title','description','url','sentiment','sentiment_score'])\n",
        "create_news_sentiment_dataset(news_sentiments)"
      ]
    },
    {
      "cell_type": "markdown",
      "metadata": {
        "id": "6KY6V0-GBfty"
      },
      "source": [
        "### Connect to Google Cloud backend"
      ]
    },
    {
      "cell_type": "code",
      "execution_count": 37,
      "metadata": {
        "colab": {
          "base_uri": "https://localhost:8080/",
          "height": 365
        },
        "id": "1hzgBysOBfty",
        "outputId": "aba843d4-a61d-4a1b-b6d6-5a55ace56b56"
      },
      "outputs": [
        {
          "data": {
            "text/plain": [
              "<firebase_admin.App at 0x28028ee20>"
            ]
          },
          "execution_count": 37,
          "metadata": {},
          "output_type": "execute_result"
        }
      ],
      "source": [
        "#Authenticate with Google Cloud using a service account private key\n",
        "import firebase_admin\n",
        "from firebase_admin import credentials\n",
        "from firebase_admin import firestore\n",
        "\n",
        "cred = credentials.Certificate(\"./pred-fyp-d6faf9e4428c.json\")\n",
        "# if not firebase_admin._apps:\n",
        "firebase_admin.initialize_app(credential = cred, name = \"PRED\")"
      ]
    },
    {
      "cell_type": "code",
      "execution_count": null,
      "metadata": {
        "id": "zlZ4sU9ZUyCp"
      },
      "outputs": [],
      "source": [
        "#Connect to the database\n",
        "db = firestore.client()\n",
        "sentiment_coll = db.collection('news_sentiments')\n",
        "reliance_doc_ref = sentiment_coll.document(u'RELIANCE')"
      ]
    },
    {
      "cell_type": "code",
      "execution_count": null,
      "metadata": {
        "id": "hj55wyKFB6A_"
      },
      "outputs": [],
      "source": [
        "news_sentiments['published'] = news_sentiments['published_at']\n",
        "news_sentiments.set_index('published_at').to_dict()"
      ]
    },
    {
      "cell_type": "code",
      "execution_count": null,
      "metadata": {
        "id": "fcjV4oT-IpV1"
      },
      "outputs": [],
      "source": [
        "#Update DB with predicted sentiments\n",
        "reliance_doc_ref.set(news_sentiments.set_index('published_at').to_dict())"
      ]
    },
    {
      "cell_type": "markdown",
      "metadata": {
        "id": "ZKkTzBfRvXZa"
      },
      "source": [
        "# Phase 2\n"
      ]
    },
    {
      "attachments": {},
      "cell_type": "markdown",
      "metadata": {
        "id": "ozDjXBAPvBqR"
      },
      "source": [
        "## ARIMA Model for Time series forcasting"
      ]
    },
    {
      "attachments": {},
      "cell_type": "markdown",
      "metadata": {},
      "source": [
        "### Importing packages and preparing dataframe"
      ]
    },
    {
      "cell_type": "code",
      "execution_count": 223,
      "metadata": {
        "id": "047onIMUvGWV"
      },
      "outputs": [],
      "source": [
        "import matplotlib.pyplot as plt\n",
        "from statsmodels.tsa.stattools import adfuller\n",
        "from statsmodels.tsa.seasonal import seasonal_decompose\n",
        "from statsmodels.tsa.arima.model import ARIMA\n",
        "from pmdarima.arima import auto_arima\n",
        "from sklearn.metrics import mean_squared_error, mean_absolute_error\n",
        "import math"
      ]
    },
    {
      "cell_type": "code",
      "execution_count": 26,
      "metadata": {
        "id": "PG0k5t4EvJQp"
      },
      "outputs": [
        {
          "data": {
            "text/html": [
              "<div>\n",
              "<style scoped>\n",
              "    .dataframe tbody tr th:only-of-type {\n",
              "        vertical-align: middle;\n",
              "    }\n",
              "\n",
              "    .dataframe tbody tr th {\n",
              "        vertical-align: top;\n",
              "    }\n",
              "\n",
              "    .dataframe thead th {\n",
              "        text-align: right;\n",
              "    }\n",
              "</style>\n",
              "<table border=\"1\" class=\"dataframe\">\n",
              "  <thead>\n",
              "    <tr style=\"text-align: right;\">\n",
              "      <th></th>\n",
              "      <th>Open</th>\n",
              "      <th>High</th>\n",
              "      <th>Low</th>\n",
              "      <th>Close</th>\n",
              "      <th>Volume</th>\n",
              "      <th>Dividends</th>\n",
              "      <th>Stock Splits</th>\n",
              "    </tr>\n",
              "    <tr>\n",
              "      <th>Date</th>\n",
              "      <th></th>\n",
              "      <th></th>\n",
              "      <th></th>\n",
              "      <th></th>\n",
              "      <th></th>\n",
              "      <th></th>\n",
              "      <th></th>\n",
              "    </tr>\n",
              "  </thead>\n",
              "  <tbody>\n",
              "    <tr>\n",
              "      <th>2018-01-31</th>\n",
              "      <td>339.288255</td>\n",
              "      <td>343.609482</td>\n",
              "      <td>333.607550</td>\n",
              "      <td>342.735535</td>\n",
              "      <td>1743678</td>\n",
              "      <td>0.0</td>\n",
              "      <td>0</td>\n",
              "    </tr>\n",
              "    <tr>\n",
              "      <th>2018-02-01</th>\n",
              "      <td>339.579563</td>\n",
              "      <td>345.405921</td>\n",
              "      <td>333.704635</td>\n",
              "      <td>335.743866</td>\n",
              "      <td>1990660</td>\n",
              "      <td>0.0</td>\n",
              "      <td>0</td>\n",
              "    </tr>\n",
              "    <tr>\n",
              "      <th>2018-02-02</th>\n",
              "      <td>330.160239</td>\n",
              "      <td>333.850254</td>\n",
              "      <td>323.848352</td>\n",
              "      <td>325.110718</td>\n",
              "      <td>1251325</td>\n",
              "      <td>0.0</td>\n",
              "      <td>0</td>\n",
              "    </tr>\n",
              "    <tr>\n",
              "      <th>2018-02-05</th>\n",
              "      <td>320.352526</td>\n",
              "      <td>330.645762</td>\n",
              "      <td>316.565400</td>\n",
              "      <td>322.051880</td>\n",
              "      <td>2172595</td>\n",
              "      <td>0.0</td>\n",
              "      <td>0</td>\n",
              "    </tr>\n",
              "    <tr>\n",
              "      <th>2018-02-06</th>\n",
              "      <td>309.622375</td>\n",
              "      <td>327.926855</td>\n",
              "      <td>302.582192</td>\n",
              "      <td>321.177979</td>\n",
              "      <td>914562</td>\n",
              "      <td>0.0</td>\n",
              "      <td>0</td>\n",
              "    </tr>\n",
              "    <tr>\n",
              "      <th>2018-02-07</th>\n",
              "      <td>325.304966</td>\n",
              "      <td>326.567332</td>\n",
              "      <td>320.449668</td>\n",
              "      <td>322.634552</td>\n",
              "      <td>626899</td>\n",
              "      <td>0.0</td>\n",
              "      <td>0</td>\n",
              "    </tr>\n",
              "    <tr>\n",
              "      <th>2018-02-08</th>\n",
              "      <td>322.634556</td>\n",
              "      <td>328.460913</td>\n",
              "      <td>320.352560</td>\n",
              "      <td>324.867981</td>\n",
              "      <td>677037</td>\n",
              "      <td>0.0</td>\n",
              "      <td>0</td>\n",
              "    </tr>\n",
              "    <tr>\n",
              "      <th>2018-02-09</th>\n",
              "      <td>314.623348</td>\n",
              "      <td>318.993117</td>\n",
              "      <td>313.603747</td>\n",
              "      <td>317.293762</td>\n",
              "      <td>584968</td>\n",
              "      <td>0.0</td>\n",
              "      <td>0</td>\n",
              "    </tr>\n",
              "    <tr>\n",
              "      <th>2018-02-12</th>\n",
              "      <td>324.236826</td>\n",
              "      <td>324.236826</td>\n",
              "      <td>314.040699</td>\n",
              "      <td>316.565460</td>\n",
              "      <td>470902</td>\n",
              "      <td>0.0</td>\n",
              "      <td>0</td>\n",
              "    </tr>\n",
              "    <tr>\n",
              "      <th>2018-02-14</th>\n",
              "      <td>317.876335</td>\n",
              "      <td>317.876335</td>\n",
              "      <td>307.340334</td>\n",
              "      <td>309.330994</td>\n",
              "      <td>2841988</td>\n",
              "      <td>0.0</td>\n",
              "      <td>0</td>\n",
              "    </tr>\n",
              "    <tr>\n",
              "      <th>2018-02-15</th>\n",
              "      <td>311.807292</td>\n",
              "      <td>321.906308</td>\n",
              "      <td>310.739121</td>\n",
              "      <td>319.090240</td>\n",
              "      <td>756879</td>\n",
              "      <td>0.0</td>\n",
              "      <td>0</td>\n",
              "    </tr>\n",
              "    <tr>\n",
              "      <th>2018-02-16</th>\n",
              "      <td>321.420740</td>\n",
              "      <td>324.333919</td>\n",
              "      <td>309.622372</td>\n",
              "      <td>311.710144</td>\n",
              "      <td>4329207</td>\n",
              "      <td>0.0</td>\n",
              "      <td>0</td>\n",
              "    </tr>\n",
              "    <tr>\n",
              "      <th>2018-02-19</th>\n",
              "      <td>315.594432</td>\n",
              "      <td>320.449731</td>\n",
              "      <td>306.126599</td>\n",
              "      <td>310.496368</td>\n",
              "      <td>2296011</td>\n",
              "      <td>0.0</td>\n",
              "      <td>0</td>\n",
              "    </tr>\n",
              "    <tr>\n",
              "      <th>2018-02-20</th>\n",
              "      <td>311.661576</td>\n",
              "      <td>314.623296</td>\n",
              "      <td>307.388890</td>\n",
              "      <td>308.457062</td>\n",
              "      <td>4907394</td>\n",
              "      <td>0.0</td>\n",
              "      <td>0</td>\n",
              "    </tr>\n",
              "    <tr>\n",
              "      <th>2018-02-21</th>\n",
              "      <td>305.883812</td>\n",
              "      <td>311.030416</td>\n",
              "      <td>305.883812</td>\n",
              "      <td>310.059357</td>\n",
              "      <td>2031105</td>\n",
              "      <td>0.0</td>\n",
              "      <td>0</td>\n",
              "    </tr>\n",
              "    <tr>\n",
              "      <th>2018-02-22</th>\n",
              "      <td>309.670914</td>\n",
              "      <td>309.865138</td>\n",
              "      <td>304.961269</td>\n",
              "      <td>308.796967</td>\n",
              "      <td>1343558</td>\n",
              "      <td>0.0</td>\n",
              "      <td>0</td>\n",
              "    </tr>\n",
              "    <tr>\n",
              "      <th>2018-02-23</th>\n",
              "      <td>310.253539</td>\n",
              "      <td>314.137777</td>\n",
              "      <td>309.282479</td>\n",
              "      <td>312.001434</td>\n",
              "      <td>3483296</td>\n",
              "      <td>0.0</td>\n",
              "      <td>0</td>\n",
              "    </tr>\n",
              "    <tr>\n",
              "      <th>2018-02-26</th>\n",
              "      <td>313.749342</td>\n",
              "      <td>318.264763</td>\n",
              "      <td>313.749342</td>\n",
              "      <td>317.536469</td>\n",
              "      <td>418378</td>\n",
              "      <td>0.0</td>\n",
              "      <td>0</td>\n",
              "    </tr>\n",
              "    <tr>\n",
              "      <th>2018-02-27</th>\n",
              "      <td>319.478614</td>\n",
              "      <td>319.478614</td>\n",
              "      <td>309.816559</td>\n",
              "      <td>310.399200</td>\n",
              "      <td>2622221</td>\n",
              "      <td>0.0</td>\n",
              "      <td>0</td>\n",
              "    </tr>\n",
              "    <tr>\n",
              "      <th>2018-02-28</th>\n",
              "      <td>305.883774</td>\n",
              "      <td>307.825894</td>\n",
              "      <td>302.193760</td>\n",
              "      <td>304.427185</td>\n",
              "      <td>1207549</td>\n",
              "      <td>0.0</td>\n",
              "      <td>0</td>\n",
              "    </tr>\n",
              "  </tbody>\n",
              "</table>\n",
              "</div>"
            ],
            "text/plain": [
              "                  Open        High         Low       Close   Volume  \\\n",
              "Date                                                                  \n",
              "2018-01-31  339.288255  343.609482  333.607550  342.735535  1743678   \n",
              "2018-02-01  339.579563  345.405921  333.704635  335.743866  1990660   \n",
              "2018-02-02  330.160239  333.850254  323.848352  325.110718  1251325   \n",
              "2018-02-05  320.352526  330.645762  316.565400  322.051880  2172595   \n",
              "2018-02-06  309.622375  327.926855  302.582192  321.177979   914562   \n",
              "2018-02-07  325.304966  326.567332  320.449668  322.634552   626899   \n",
              "2018-02-08  322.634556  328.460913  320.352560  324.867981   677037   \n",
              "2018-02-09  314.623348  318.993117  313.603747  317.293762   584968   \n",
              "2018-02-12  324.236826  324.236826  314.040699  316.565460   470902   \n",
              "2018-02-14  317.876335  317.876335  307.340334  309.330994  2841988   \n",
              "2018-02-15  311.807292  321.906308  310.739121  319.090240   756879   \n",
              "2018-02-16  321.420740  324.333919  309.622372  311.710144  4329207   \n",
              "2018-02-19  315.594432  320.449731  306.126599  310.496368  2296011   \n",
              "2018-02-20  311.661576  314.623296  307.388890  308.457062  4907394   \n",
              "2018-02-21  305.883812  311.030416  305.883812  310.059357  2031105   \n",
              "2018-02-22  309.670914  309.865138  304.961269  308.796967  1343558   \n",
              "2018-02-23  310.253539  314.137777  309.282479  312.001434  3483296   \n",
              "2018-02-26  313.749342  318.264763  313.749342  317.536469   418378   \n",
              "2018-02-27  319.478614  319.478614  309.816559  310.399200  2622221   \n",
              "2018-02-28  305.883774  307.825894  302.193760  304.427185  1207549   \n",
              "\n",
              "            Dividends  Stock Splits  \n",
              "Date                                 \n",
              "2018-01-31        0.0             0  \n",
              "2018-02-01        0.0             0  \n",
              "2018-02-02        0.0             0  \n",
              "2018-02-05        0.0             0  \n",
              "2018-02-06        0.0             0  \n",
              "2018-02-07        0.0             0  \n",
              "2018-02-08        0.0             0  \n",
              "2018-02-09        0.0             0  \n",
              "2018-02-12        0.0             0  \n",
              "2018-02-14        0.0             0  \n",
              "2018-02-15        0.0             0  \n",
              "2018-02-16        0.0             0  \n",
              "2018-02-19        0.0             0  \n",
              "2018-02-20        0.0             0  \n",
              "2018-02-21        0.0             0  \n",
              "2018-02-22        0.0             0  \n",
              "2018-02-23        0.0             0  \n",
              "2018-02-26        0.0             0  \n",
              "2018-02-27        0.0             0  \n",
              "2018-02-28        0.0             0  "
            ]
          },
          "execution_count": 26,
          "metadata": {},
          "output_type": "execute_result"
        }
      ],
      "source": [
        "dateparse = lambda dates: pd.datetime.strptime(dates, '%Y-%m-%d')\n",
        "stock_data = pd.read_csv(output_stock_history_file_path,sep=',', index_col='Date', parse_dates=['Date'], date_parser=dateparse).fillna(0)\n",
        "stock_data.head(20)"
      ]
    },
    {
      "attachments": {},
      "cell_type": "markdown",
      "metadata": {},
      "source": [
        "### Stationarize data\n",
        "Before using the ARIMA model, we have to ensure that our data is stationarized. For a data to be stationarized:\n",
        "\n",
        "1. The mean of the series should not be a function of time.\n",
        "2. The variance of the series should not be a function of time.\n",
        "3. the covariance of the i th term and the (i + m) th term should not be a function of time.\n"
      ]
    },
    {
      "cell_type": "code",
      "execution_count": 225,
      "metadata": {},
      "outputs": [
        {
          "data": {
            "image/png": "[encoded data removed]",
            "text/plain": [
              "<Figure size 1000x600 with 1 Axes>"
            ]
          },
          "metadata": {},
          "output_type": "display_data"
        }
      ],
      "source": [
        "#Plot close price\n",
        "plt.figure(figsize=(10,6))\n",
        "plt.grid(True)\n",
        "plt.xlabel('Date')\n",
        "plt.ylabel('Close Prices')\n",
        "plt.plot(stock_data['Close'])\n",
        "plt.title('{} closing price'.format(company_symbol))\n",
        "plt.show()"
      ]
    },
    {
      "cell_type": "code",
      "execution_count": 226,
      "metadata": {},
      "outputs": [
        {
          "data": {
            "text/plain": [
              "<AxesSubplot:ylabel='Density'>"
            ]
          },
          "execution_count": 226,
          "metadata": {},
          "output_type": "execute_result"
        },
        {
          "data": {
            "image/png": "[encoded data removed]",
            "text/plain": [
              "<Figure size 1000x600 with 1 Axes>"
            ]
          },
          "metadata": {},
          "output_type": "display_data"
        }
      ],
      "source": [
        "#Distribution of the dataset\n",
        "df_close = stock_data['Close']\n",
        "df_close.plot(kind='kde')"
      ]
    },
    {
      "attachments": {},
      "cell_type": "markdown",
      "metadata": {},
      "source": [
        "#### ADF (Augmented Dickey-Fuller) Test\n",
        "ADF is used to determine whether the series has a unit root or not, therefore determining if series is stationary or not\n",
        "\n",
        "\n",
        "- **Null Hypothesis**: The series has a unit root (value of a =1)\n",
        "- **Alternate Hypothesis**: The series has no unit root."
      ]
    },
    {
      "cell_type": "code",
      "execution_count": 227,
      "metadata": {},
      "outputs": [
        {
          "data": {
            "image/png": "[encoded data removed]",
            "text/plain": [
              "<Figure size 1000x600 with 1 Axes>"
            ]
          },
          "metadata": {},
          "output_type": "display_data"
        },
        {
          "name": "stdout",
          "output_type": "stream",
          "text": [
            "Results of dickey fuller test\n",
            "Test Statistics                  -0.745288\n",
            "p-value                           0.834668\n",
            "No. of lags used                  5.000000\n",
            "Number of observations used    1230.000000\n",
            "critical value (1%)              -3.435678\n",
            "critical value (5%)              -2.863893\n",
            "critical value (10%)             -2.568023\n",
            "dtype: float64\n",
            "\n"
          ]
        }
      ],
      "source": [
        "#Test for staionarity\n",
        "def test_stationarity(timeseries):\n",
        "    #Determing rolling statistics\n",
        "    rolmean = timeseries.rolling(12).mean()\n",
        "    rolstd = timeseries.rolling(12).std()\n",
        "    #Plot rolling statistics:\n",
        "    plt.plot(timeseries, color='blue',label='Original')\n",
        "    plt.plot(rolmean, color='red', label='Rolling Mean')\n",
        "    plt.plot(rolstd, color='black', label = 'Rolling Std')\n",
        "    plt.legend(loc='best')\n",
        "    plt.title('Rolling Mean and Standard Deviation')\n",
        "    plt.show(block=False)\n",
        "    print(\"Results of dickey fuller test\")\n",
        "    adft = adfuller(timeseries,autolag='AIC')\n",
        "    # output for dft will give us without defining what the values are.\n",
        "    #hence we manually write what values does it explains using a for loop\n",
        "    output = pd.Series(adft[0:4],index=['Test Statistics','p-value','No. of lags used','Number of observations used'])\n",
        "    for key,values in adft[4].items():\n",
        "        output['critical value (%s)'%key] =  values\n",
        "    print(output,end ='\\n\\n')\n",
        "test_stationarity(df_close)"
      ]
    },
    {
      "cell_type": "code",
      "execution_count": 177,
      "metadata": {},
      "outputs": [
        {
          "name": "stderr",
          "output_type": "stream",
          "text": [
            "No handles with labels found to put in legend.\n"
          ]
        },
        {
          "data": {
            "image/png": "[encoded data removed]",
            "text/plain": [
              "<Figure size 1000x600 with 1 Axes>"
            ]
          },
          "metadata": {},
          "output_type": "display_data"
        }
      ],
      "source": [
        "#if not stationary then eliminate trend\n",
        "#Eliminate trend\n",
        "from pylab import rcParams\n",
        "rcParams['figure.figsize'] = 10, 6\n",
        "df_log = np.log(df_close)\n",
        "moving_avg = df_log.rolling(12).mean()\n",
        "std_dev = df_log.rolling(12).std()\n",
        "plt.legend(loc='best')\n",
        "plt.title('Moving Average')\n",
        "plt.plot(std_dev, color =\"black\", label = \"Standard Deviation\")\n",
        "plt.plot(moving_avg, color=\"red\", label = \"Mean\")\n",
        "plt.legend()\n",
        "plt.show()"
      ]
    },
    {
      "attachments": {},
      "cell_type": "markdown",
      "metadata": {},
      "source": [
        "### Train model with best parameters"
      ]
    },
    {
      "cell_type": "code",
      "execution_count": 229,
      "metadata": {},
      "outputs": [
        {
          "data": {
            "text/plain": [
              "<matplotlib.legend.Legend at 0x2ce7b3a30>"
            ]
          },
          "execution_count": 229,
          "metadata": {},
          "output_type": "execute_result"
        },
        {
          "data": {
            "image/png": "[encoded data removed]",
            "text/plain": [
              "<Figure size 1000x600 with 1 Axes>"
            ]
          },
          "metadata": {},
          "output_type": "display_data"
        }
      ],
      "source": [
        "# Split data into train and test\n",
        "train_data, test_data = df_log[3:int(len(df_log)*0.9)], df_log[int(len(df_log)*0.9):]\n",
        "plt.figure(figsize=(10,6))\n",
        "plt.grid(True)\n",
        "plt.xlabel('Dates')\n",
        "plt.ylabel('Closing Prices')\n",
        "plt.plot(df_log, 'green', label='Train data')\n",
        "plt.plot(test_data, 'blue', label='Test data')\n",
        "plt.legend()"
      ]
    },
    {
      "cell_type": "code",
      "execution_count": 230,
      "metadata": {},
      "outputs": [
        {
          "name": "stdout",
          "output_type": "stream",
          "text": [
            "Performing stepwise search to minimize aic\n",
            " ARIMA(1,0,1)(0,1,1)[12] intercept   : AIC=inf, Time=2.48 sec\n",
            " ARIMA(0,0,0)(0,1,0)[12] intercept   : AIC=-3218.301, Time=0.10 sec\n",
            " ARIMA(1,0,0)(1,1,0)[12] intercept   : AIC=-5339.049, Time=1.38 sec\n",
            " ARIMA(0,0,1)(0,1,1)[12] intercept   : AIC=-4180.267, Time=1.33 sec\n",
            " ARIMA(0,0,0)(0,1,0)[12]             : AIC=-3189.392, Time=0.05 sec\n",
            " ARIMA(1,0,0)(0,1,0)[12] intercept   : AIC=-5114.854, Time=0.14 sec\n",
            " ARIMA(1,0,0)(2,1,0)[12] intercept   : AIC=-5471.673, Time=11.84 sec\n",
            " ARIMA(1,0,0)(2,1,1)[12] intercept   : AIC=inf, Time=10.55 sec\n",
            " ARIMA(1,0,0)(1,1,1)[12] intercept   : AIC=inf, Time=2.50 sec\n",
            " ARIMA(0,0,0)(2,1,0)[12] intercept   : AIC=-3244.977, Time=5.13 sec\n",
            " ARIMA(2,0,0)(2,1,0)[12] intercept   : AIC=-5469.877, Time=10.49 sec\n",
            " ARIMA(1,0,1)(2,1,0)[12] intercept   : AIC=-5469.900, Time=8.37 sec\n",
            " ARIMA(0,0,1)(2,1,0)[12] intercept   : AIC=-4197.536, Time=7.31 sec\n",
            " ARIMA(2,0,1)(2,1,0)[12] intercept   : AIC=-5467.808, Time=11.21 sec\n",
            " ARIMA(1,0,0)(2,1,0)[12]             : AIC=-5471.341, Time=1.25 sec\n",
            "\n",
            "Best model:  ARIMA(1,0,0)(2,1,0)[12] intercept\n",
            "Total fit time: 74.127 seconds\n",
            "                                     SARIMAX Results                                      \n",
            "==========================================================================================\n",
            "Dep. Variable:                                  y   No. Observations:                 1095\n",
            "Model:             SARIMAX(1, 0, 0)x(2, 1, 0, 12)   Log Likelihood                2740.837\n",
            "Date:                            Tue, 31 Jan 2023   AIC                          -5471.673\n",
            "Time:                                    12:03:28   BIC                          -5446.736\n",
            "Sample:                                         0   HQIC                         -5462.232\n",
            "                                           - 1095                                         \n",
            "Covariance Type:                              opg                                         \n",
            "==============================================================================\n",
            "                 coef    std err          z      P>|z|      [0.025      0.975]\n",
            "------------------------------------------------------------------------------\n",
            "intercept      0.0009      0.001      1.603      0.109      -0.000       0.002\n",
            "ar.L1          0.9512      0.008    126.790      0.000       0.936       0.966\n",
            "ar.S.L12      -0.6003      0.027    -22.028      0.000      -0.654      -0.547\n",
            "ar.S.L24      -0.3498      0.026    -13.639      0.000      -0.400      -0.300\n",
            "sigma2         0.0004   1.04e-05     35.285      0.000       0.000       0.000\n",
            "===================================================================================\n",
            "Ljung-Box (L1) (Q):                   0.23   Jarque-Bera (JB):               385.05\n",
            "Prob(Q):                              0.63   Prob(JB):                         0.00\n",
            "Heteroskedasticity (H):               0.87   Skew:                             0.06\n",
            "Prob(H) (two-sided):                  0.18   Kurtosis:                         5.92\n",
            "===================================================================================\n",
            "\n",
            "Warnings:\n",
            "[1] Covariance matrix calculated using the outer product of gradients (complex-step).\n"
          ]
        },
        {
          "data": {
            "image/png": "[encoded data removed]",
            "text/plain": [
              "<Figure size 1500x800 with 4 Axes>"
            ]
          },
          "metadata": {},
          "output_type": "display_data"
        }
      ],
      "source": [
        "# Use auto_arima to find the best AR,I, and MA parameters for our model\n",
        "stepwise_fit = auto_arima(train_data, start_p = 1, start_q = 1,\n",
        "                            max_p = 3, max_q = 3, m = 12,\n",
        "                            start_P = 0, seasonal = True,\n",
        "                            d = None, D = 1, trace = True,\n",
        "                            error_action ='ignore',\n",
        "                            suppress_warnings = True,\n",
        "                            stepwise = True)\n",
        "\n",
        "print(stepwise_fit.summary())\n",
        "stepwise_fit.plot_diagnostics(figsize=(15,8))\n",
        "plt.show()"
      ]
    },
    {
      "cell_type": "code",
      "execution_count": 231,
      "metadata": {},
      "outputs": [
        {
          "name": "stdout",
          "output_type": "stream",
          "text": [
            "                               SARIMAX Results                                \n",
            "==============================================================================\n",
            "Dep. Variable:                  Close   No. Observations:                 1095\n",
            "Model:                 ARIMA(1, 0, 1)   Log Likelihood                2920.835\n",
            "Date:                Tue, 31 Jan 2023   AIC                          -5833.671\n",
            "Time:                        12:03:34   BIC                          -5813.677\n",
            "Sample:                             0   HQIC                         -5826.105\n",
            "                               - 1095                                         \n",
            "Covariance Type:                  opg                                         \n",
            "==============================================================================\n",
            "                 coef    std err          z      P>|z|      [0.025      0.975]\n",
            "------------------------------------------------------------------------------\n",
            "const          7.7501      0.147     52.582      0.000       7.461       8.039\n",
            "ar.L1          0.9975      0.002    637.793      0.000       0.994       1.001\n",
            "ma.L1         -0.0385      0.023     -1.698      0.089      -0.083       0.006\n",
            "sigma2         0.0003   7.08e-06     39.664      0.000       0.000       0.000\n",
            "===================================================================================\n",
            "Ljung-Box (L1) (Q):                   0.00   Jarque-Bera (JB):               725.00\n",
            "Prob(Q):                              0.95   Prob(JB):                         0.00\n",
            "Heteroskedasticity (H):               0.89   Skew:                            -0.24\n",
            "Prob(H) (two-sided):                  0.26   Kurtosis:                         6.96\n",
            "===================================================================================\n",
            "\n",
            "Warnings:\n",
            "[1] Covariance matrix calculated using the outer product of gradients (complex-step).\n"
          ]
        }
      ],
      "source": [
        "# Build Model\n",
        "model = ARIMA(train_data, order=(1,0,1))  \n",
        "fitted = model.fit()\n",
        "print(fitted.summary())"
      ]
    },
    {
      "cell_type": "code",
      "execution_count": 232,
      "metadata": {},
      "outputs": [],
      "source": [
        "train_data, test_data = df_close[0:int(len(df_close)*0.7)], df_close[int(len(df_close)*0.7):]\n",
        "training_data = train_data.values\n",
        "test_data = test_data.values\n",
        "history = [x for x in training_data]\n",
        "model_predictions = []\n",
        "N_test_observations = len(test_data)\n",
        "for time_point in range(N_test_observations):\n",
        "    model = ARIMA(history, order=(3,1,0))\n",
        "    model_fit = model.fit()\n",
        "    output = model_fit.forecast()\n",
        "    yhat = output[0]\n",
        "    model_predictions.append(yhat)\n",
        "    true_test_value = test_data[time_point]\n",
        "    history.append(true_test_value)"
      ]
    },
    {
      "cell_type": "code",
      "execution_count": 233,
      "metadata": {},
      "outputs": [
        {
          "data": {
            "image/png": "[encoded data removed]",
            "text/plain": [
              "<Figure size 1000x600 with 1 Axes>"
            ]
          },
          "metadata": {},
          "output_type": "display_data"
        }
      ],
      "source": [
        "test_set_range = df_close[int(len(df_close)*0.7):].index\n",
        "plt.plot(test_set_range, model_predictions, color='blue', marker='.', linestyle='dashed',label='Predicted Price')\n",
        "plt.plot(test_set_range, test_data, color='red', label='Actual Price')\n",
        "plt.title('{} Prices Prediction'.format(company_symbol))\n",
        "plt.xlabel('Date')\n",
        "plt.ylabel('Prices')\n",
        "plt.legend()\n",
        "plt.show()"
      ]
    },
    {
      "cell_type": "code",
      "execution_count": 234,
      "metadata": {},
      "outputs": [
        {
          "name": "stdout",
          "output_type": "stream",
          "text": [
            "Predicted closing price for today: 821.7182442816485\n"
          ]
        }
      ],
      "source": [
        "model = ARIMA(df_close, order=(3,1,0))\n",
        "model_fit = model.fit()\n",
        "output = model_fit.forecast()\n",
        "\n",
        "print('Predicted closing price for today: {}'.format(output[output.keys().start]))"
      ]
    },
    {
      "attachments": {},
      "cell_type": "markdown",
      "metadata": {},
      "source": [
        "#### Model Evaluation"
      ]
    },
    {
      "cell_type": "code",
      "execution_count": 235,
      "metadata": {},
      "outputs": [
        {
          "name": "stdout",
          "output_type": "stream",
          "text": [
            "Testing Mean Squared Error is 136.73108944876688\n",
            "MAPE: 0.01100089160620687\n"
          ]
        }
      ],
      "source": [
        "MSE_error = mean_squared_error(test_data, model_predictions)\n",
        "print('Testing Mean Squared Error is {}'.format(MSE_error))\n",
        "mape = np.mean(np.abs(model_predictions - test_data)/np.abs(test_data))\n",
        "print('MAPE: '+str(mape))"
      ]
    },
    {
      "attachments": {},
      "cell_type": "markdown",
      "metadata": {},
      "source": [
        "## Vanilla LSTM  "
      ]
    },
    {
      "cell_type": "code",
      "execution_count": 44,
      "metadata": {},
      "outputs": [],
      "source": [
        "### Importing packages\n",
        "import itertools\n",
        "from operator import itemgetter\n",
        "from sklearn.metrics import mean_squared_error\n",
        "from sklearn.preprocessing import MinMaxScaler\n",
        "import math\n",
        "from math import sqrt\n",
        "import torch\n",
        "import torch.nn as nn\n",
        "from torch.autograd import Variable\n",
        "from pylab import mpl, plt\n",
        "plt.style.use('seaborn')\n",
        "mpl.rcParams['font.family'] = 'serif'\n",
        "%matplotlib inline"
      ]
    },
    {
      "cell_type": "code",
      "execution_count": 27,
      "metadata": {},
      "outputs": [
        {
          "data": {
            "text/html": [
              "<div>\n",
              "<style scoped>\n",
              "    .dataframe tbody tr th:only-of-type {\n",
              "        vertical-align: middle;\n",
              "    }\n",
              "\n",
              "    .dataframe tbody tr th {\n",
              "        vertical-align: top;\n",
              "    }\n",
              "\n",
              "    .dataframe thead th {\n",
              "        text-align: right;\n",
              "    }\n",
              "</style>\n",
              "<table border=\"1\" class=\"dataframe\">\n",
              "  <thead>\n",
              "    <tr style=\"text-align: right;\">\n",
              "      <th></th>\n",
              "      <th>Open</th>\n",
              "      <th>High</th>\n",
              "      <th>Low</th>\n",
              "      <th>Close</th>\n",
              "      <th>Volume</th>\n",
              "      <th>Dividends</th>\n",
              "      <th>Stock Splits</th>\n",
              "    </tr>\n",
              "    <tr>\n",
              "      <th>Date</th>\n",
              "      <th></th>\n",
              "      <th></th>\n",
              "      <th></th>\n",
              "      <th></th>\n",
              "      <th></th>\n",
              "      <th></th>\n",
              "      <th></th>\n",
              "    </tr>\n",
              "  </thead>\n",
              "  <tbody>\n",
              "    <tr>\n",
              "      <th>2018-01-31</th>\n",
              "      <td>339.288255</td>\n",
              "      <td>343.609482</td>\n",
              "      <td>333.607550</td>\n",
              "      <td>342.735535</td>\n",
              "      <td>1743678</td>\n",
              "      <td>0.0</td>\n",
              "      <td>0</td>\n",
              "    </tr>\n",
              "    <tr>\n",
              "      <th>2018-02-01</th>\n",
              "      <td>339.579563</td>\n",
              "      <td>345.405921</td>\n",
              "      <td>333.704635</td>\n",
              "      <td>335.743866</td>\n",
              "      <td>1990660</td>\n",
              "      <td>0.0</td>\n",
              "      <td>0</td>\n",
              "    </tr>\n",
              "    <tr>\n",
              "      <th>2018-02-02</th>\n",
              "      <td>330.160239</td>\n",
              "      <td>333.850254</td>\n",
              "      <td>323.848352</td>\n",
              "      <td>325.110718</td>\n",
              "      <td>1251325</td>\n",
              "      <td>0.0</td>\n",
              "      <td>0</td>\n",
              "    </tr>\n",
              "    <tr>\n",
              "      <th>2018-02-05</th>\n",
              "      <td>320.352526</td>\n",
              "      <td>330.645762</td>\n",
              "      <td>316.565400</td>\n",
              "      <td>322.051880</td>\n",
              "      <td>2172595</td>\n",
              "      <td>0.0</td>\n",
              "      <td>0</td>\n",
              "    </tr>\n",
              "    <tr>\n",
              "      <th>2018-02-06</th>\n",
              "      <td>309.622375</td>\n",
              "      <td>327.926855</td>\n",
              "      <td>302.582192</td>\n",
              "      <td>321.177979</td>\n",
              "      <td>914562</td>\n",
              "      <td>0.0</td>\n",
              "      <td>0</td>\n",
              "    </tr>\n",
              "    <tr>\n",
              "      <th>...</th>\n",
              "      <td>...</td>\n",
              "      <td>...</td>\n",
              "      <td>...</td>\n",
              "      <td>...</td>\n",
              "      <td>...</td>\n",
              "      <td>...</td>\n",
              "      <td>...</td>\n",
              "    </tr>\n",
              "    <tr>\n",
              "      <th>2023-01-30</th>\n",
              "      <td>801.549988</td>\n",
              "      <td>826.000000</td>\n",
              "      <td>796.099976</td>\n",
              "      <td>823.200012</td>\n",
              "      <td>806638</td>\n",
              "      <td>0.0</td>\n",
              "      <td>0</td>\n",
              "    </tr>\n",
              "    <tr>\n",
              "      <th>2023-01-31</th>\n",
              "      <td>825.000000</td>\n",
              "      <td>838.250000</td>\n",
              "      <td>814.700012</td>\n",
              "      <td>831.650024</td>\n",
              "      <td>246535</td>\n",
              "      <td>0.0</td>\n",
              "      <td>0</td>\n",
              "    </tr>\n",
              "    <tr>\n",
              "      <th>2023-02-01</th>\n",
              "      <td>842.900024</td>\n",
              "      <td>875.250000</td>\n",
              "      <td>823.549988</td>\n",
              "      <td>846.650024</td>\n",
              "      <td>8271907</td>\n",
              "      <td>0.0</td>\n",
              "      <td>0</td>\n",
              "    </tr>\n",
              "    <tr>\n",
              "      <th>2023-02-02</th>\n",
              "      <td>838.950012</td>\n",
              "      <td>860.599976</td>\n",
              "      <td>826.599976</td>\n",
              "      <td>857.450012</td>\n",
              "      <td>265462</td>\n",
              "      <td>0.0</td>\n",
              "      <td>0</td>\n",
              "    </tr>\n",
              "    <tr>\n",
              "      <th>2023-02-03</th>\n",
              "      <td>870.000000</td>\n",
              "      <td>872.700012</td>\n",
              "      <td>852.099976</td>\n",
              "      <td>863.750000</td>\n",
              "      <td>182430</td>\n",
              "      <td>0.0</td>\n",
              "      <td>0</td>\n",
              "    </tr>\n",
              "  </tbody>\n",
              "</table>\n",
              "<p>1239 rows × 7 columns</p>\n",
              "</div>"
            ],
            "text/plain": [
              "                  Open        High         Low       Close   Volume  \\\n",
              "Date                                                                  \n",
              "2018-01-31  339.288255  343.609482  333.607550  342.735535  1743678   \n",
              "2018-02-01  339.579563  345.405921  333.704635  335.743866  1990660   \n",
              "2018-02-02  330.160239  333.850254  323.848352  325.110718  1251325   \n",
              "2018-02-05  320.352526  330.645762  316.565400  322.051880  2172595   \n",
              "2018-02-06  309.622375  327.926855  302.582192  321.177979   914562   \n",
              "...                ...         ...         ...         ...      ...   \n",
              "2023-01-30  801.549988  826.000000  796.099976  823.200012   806638   \n",
              "2023-01-31  825.000000  838.250000  814.700012  831.650024   246535   \n",
              "2023-02-01  842.900024  875.250000  823.549988  846.650024  8271907   \n",
              "2023-02-02  838.950012  860.599976  826.599976  857.450012   265462   \n",
              "2023-02-03  870.000000  872.700012  852.099976  863.750000   182430   \n",
              "\n",
              "            Dividends  Stock Splits  \n",
              "Date                                 \n",
              "2018-01-31        0.0             0  \n",
              "2018-02-01        0.0             0  \n",
              "2018-02-02        0.0             0  \n",
              "2018-02-05        0.0             0  \n",
              "2018-02-06        0.0             0  \n",
              "...               ...           ...  \n",
              "2023-01-30        0.0             0  \n",
              "2023-01-31        0.0             0  \n",
              "2023-02-01        0.0             0  \n",
              "2023-02-02        0.0             0  \n",
              "2023-02-03        0.0             0  \n",
              "\n",
              "[1239 rows x 7 columns]"
            ]
          },
          "execution_count": 27,
          "metadata": {},
          "output_type": "execute_result"
        }
      ],
      "source": [
        "stock_data"
      ]
    },
    {
      "cell_type": "code",
      "execution_count": 32,
      "metadata": {},
      "outputs": [
        {
          "data": {
            "image/png": "[encoded data removed]",
            "text/plain": [
              "<Figure size 1500x600 with 1 Axes>"
            ]
          },
          "metadata": {},
          "output_type": "display_data"
        }
      ],
      "source": [
        "dates = pd.date_range(start_date,'2023-02-03',freq='B')\n",
        "df1=pd.DataFrame(index=dates)\n",
        "df_fin=pd.read_csv(output_stock_history_file_path, parse_dates=True, index_col=0)\n",
        "df_fin=df1.join(df_fin)\n",
        "df_fin[['Close']].plot(figsize=(15, 6))\n",
        "plt.ylabel(\"Close price\")\n",
        "plt.title(\"{} Stock\".format(company_symbol))\n",
        "plt.show()"
      ]
    },
    {
      "cell_type": "code",
      "execution_count": 33,
      "metadata": {},
      "outputs": [
        {
          "name": "stdout",
          "output_type": "stream",
          "text": [
            "<class 'pandas.core.frame.DataFrame'>\n",
            "DatetimeIndex: 1308 entries, 2018-01-31 to 2023-02-03\n",
            "Freq: B\n",
            "Data columns (total 1 columns):\n",
            " #   Column  Non-Null Count  Dtype  \n",
            "---  ------  --------------  -----  \n",
            " 0   Close   1237 non-null   float64\n",
            "dtypes: float64(1)\n",
            "memory usage: 52.7 KB\n"
          ]
        }
      ],
      "source": [
        "df_fin=df_fin[['Close']]\n",
        "df_fin.info()"
      ]
    },
    {
      "cell_type": "code",
      "execution_count": 34,
      "metadata": {},
      "outputs": [],
      "source": [
        "df_fin=df_fin.fillna(method='ffill')\n",
        "\n",
        "scaler = MinMaxScaler(feature_range=(-1, 1))\n",
        "df_fin['Close'] = scaler.fit_transform(df_fin['Close'].values.reshape(-1,1))"
      ]
    },
    {
      "cell_type": "code",
      "execution_count": 36,
      "metadata": {},
      "outputs": [
        {
          "name": "stdout",
          "output_type": "stream",
          "text": [
            "x_train.shape =  (998, 59, 1)\n",
            "y_train.shape =  (998, 1)\n",
            "x_test.shape =  (250, 59, 1)\n",
            "y_test.shape =  (250, 1)\n"
          ]
        }
      ],
      "source": [
        "# function to create train, test data given stock data and sequence length\n",
        "def load_data(stock, look_back):\n",
        "    data_raw = stock.values # convert to numpy array\n",
        "    data = []\n",
        "    \n",
        "    # create all possible sequences of length look_back\n",
        "    for index in range(len(data_raw) - look_back): \n",
        "        data.append(data_raw[index: index + look_back])\n",
        "    \n",
        "    data = np.array(data);\n",
        "    test_set_size = int(np.round(0.2*data.shape[0]));\n",
        "    train_set_size = data.shape[0] - (test_set_size);\n",
        "    \n",
        "    x_train = data[:train_set_size,:-1,:]\n",
        "    y_train = data[:train_set_size,-1,:]\n",
        "    \n",
        "    x_test = data[train_set_size:,:-1]\n",
        "    y_test = data[train_set_size:,-1,:]\n",
        "    \n",
        "    return [x_train, y_train, x_test, y_test]\n",
        "\n",
        "look_back = 60 # choose sequence length\n",
        "x_train, y_train, x_test, y_test = load_data(df_fin, look_back)\n",
        "print('x_train.shape = ',x_train.shape)\n",
        "print('y_train.shape = ',y_train.shape)\n",
        "print('x_test.shape = ',x_test.shape)\n",
        "print('y_test.shape = ',y_test.shape)"
      ]
    },
    {
      "cell_type": "code",
      "execution_count": 37,
      "metadata": {},
      "outputs": [],
      "source": [
        "# make training and test sets in torch\n",
        "x_train = torch.from_numpy(x_train).type(torch.Tensor)\n",
        "x_test = torch.from_numpy(x_test).type(torch.Tensor)\n",
        "y_train = torch.from_numpy(y_train).type(torch.Tensor)\n",
        "y_test = torch.from_numpy(y_test).type(torch.Tensor)"
      ]
    },
    {
      "cell_type": "code",
      "execution_count": 38,
      "metadata": {},
      "outputs": [
        {
          "data": {
            "text/plain": [
              "(torch.Size([998, 1]), torch.Size([998, 59, 1]))"
            ]
          },
          "execution_count": 38,
          "metadata": {},
          "output_type": "execute_result"
        }
      ],
      "source": [
        "y_train.size(),x_train.size()"
      ]
    },
    {
      "cell_type": "code",
      "execution_count": 39,
      "metadata": {},
      "outputs": [
        {
          "name": "stdout",
          "output_type": "stream",
          "text": [
            "LSTM(\n",
            "  (lstm): LSTM(1, 32, num_layers=2, batch_first=True)\n",
            "  (fc): Linear(in_features=32, out_features=1, bias=True)\n",
            ")\n",
            "10\n",
            "torch.Size([128, 1])\n",
            "torch.Size([128, 32])\n",
            "torch.Size([128])\n",
            "torch.Size([128])\n",
            "torch.Size([128, 32])\n",
            "torch.Size([128, 32])\n",
            "torch.Size([128])\n",
            "torch.Size([128])\n",
            "torch.Size([1, 32])\n",
            "torch.Size([1])\n"
          ]
        }
      ],
      "source": [
        "# Build model\n",
        "#####################\n",
        "input_dim = 1\n",
        "hidden_dim = 32\n",
        "num_layers = 2 \n",
        "output_dim = 1\n",
        "\n",
        "\n",
        "# Here we define our model as a class\n",
        "class LSTM(nn.Module):\n",
        "    def __init__(self, input_dim, hidden_dim, num_layers, output_dim):\n",
        "        super(LSTM, self).__init__()\n",
        "        # Hidden dimensions\n",
        "        self.hidden_dim = hidden_dim\n",
        "\n",
        "        # Number of hidden layers\n",
        "        self.num_layers = num_layers\n",
        "\n",
        "        # batch_first=True causes input/output tensors to be of shape\n",
        "        # (batch_dim, seq_dim, feature_dim)\n",
        "        self.lstm = nn.LSTM(input_dim, hidden_dim, num_layers, batch_first=True)\n",
        "\n",
        "        # Readout layer\n",
        "        self.fc = nn.Linear(hidden_dim, output_dim)\n",
        "\n",
        "    def forward(self, x):\n",
        "        # Initialize hidden state with zeros\n",
        "        h0 = torch.zeros(self.num_layers, x.size(0), self.hidden_dim).requires_grad_()\n",
        "\n",
        "        # Initialize cell state\n",
        "        c0 = torch.zeros(self.num_layers, x.size(0), self.hidden_dim).requires_grad_()\n",
        "\n",
        "        # We need to detach as we are doing truncated backpropagation through time (BPTT)\n",
        "        # If we don't, we'll backprop all the way to the start even after going through another batch\n",
        "        out, (hn, cn) = self.lstm(x, (h0.detach(), c0.detach()))\n",
        "\n",
        "        # Index hidden state of last time step\n",
        "        # out.size() --> 100, 32, 100\n",
        "        # out[:, -1, :] --> 100, 100 --> just want last time step hidden states! \n",
        "        out = self.fc(out[:, -1, :]) \n",
        "        # out.size() --> 100, 10\n",
        "        return out\n",
        "    \n",
        "model = LSTM(input_dim=input_dim, hidden_dim=hidden_dim, output_dim=output_dim, num_layers=num_layers)\n",
        "\n",
        "loss_fn = torch.nn.MSELoss()\n",
        "\n",
        "optimiser = torch.optim.Adam(model.parameters(), lr=0.01)\n",
        "print(model)\n",
        "print(len(list(model.parameters())))\n",
        "for i in range(len(list(model.parameters()))):\n",
        "    print(list(model.parameters())[i].size())"
      ]
    },
    {
      "cell_type": "code",
      "execution_count": 40,
      "metadata": {},
      "outputs": [
        {
          "name": "stdout",
          "output_type": "stream",
          "text": [
            "Epoch  10 MSE:  0.03987464681267738\n",
            "Epoch  20 MSE:  0.012817111797630787\n",
            "Epoch  30 MSE:  0.004826504271477461\n",
            "Epoch  40 MSE:  0.0030822299886494875\n",
            "Epoch  50 MSE:  0.0022249335888773203\n",
            "Epoch  60 MSE:  0.001963474554941058\n",
            "Epoch  70 MSE:  0.0018161081243306398\n",
            "Epoch  80 MSE:  0.0017077157972380519\n",
            "Epoch  90 MSE:  0.0016417232109233737\n"
          ]
        }
      ],
      "source": [
        "# Train model\n",
        "#####################\n",
        "num_epochs = 100\n",
        "hist = np.zeros(num_epochs)\n",
        "\n",
        "# Number of steps to unroll\n",
        "seq_dim =look_back-1  \n",
        "\n",
        "for t in range(num_epochs):\n",
        "    # Initialise hidden state\n",
        "    # Should skip if LSTM is to be stateful\n",
        "    #model.hidden = model.init_hidden()\n",
        "    \n",
        "    # Forward pass\n",
        "    y_train_pred = model(x_train)\n",
        "\n",
        "    loss = loss_fn(y_train_pred, y_train)\n",
        "    if t % 10 == 0 and t !=0:\n",
        "        print(\"Epoch \", t, \"MSE: \", loss.item())\n",
        "    hist[t] = loss.item()\n",
        "\n",
        "    # Zero out gradient, else they will accumulate between epochs\n",
        "    optimiser.zero_grad()\n",
        "\n",
        "    # Backward pass\n",
        "    loss.backward()\n",
        "\n",
        "    # Update parameters\n",
        "    optimiser.step()"
      ]
    },
    {
      "cell_type": "code",
      "execution_count": 41,
      "metadata": {},
      "outputs": [
        {
          "data": {
            "image/png": "[encoded data removed]",
            "text/plain": [
              "<Figure size 800x550 with 1 Axes>"
            ]
          },
          "metadata": {},
          "output_type": "display_data"
        }
      ],
      "source": [
        "plt.plot(hist, label=\"Training loss\")\n",
        "plt.legend()\n",
        "plt.show()"
      ]
    },
    {
      "cell_type": "code",
      "execution_count": 42,
      "metadata": {},
      "outputs": [
        {
          "data": {
            "text/plain": [
              "torch.Size([998, 1])"
            ]
          },
          "execution_count": 42,
          "metadata": {},
          "output_type": "execute_result"
        }
      ],
      "source": [
        "np.shape(y_train_pred)"
      ]
    },
    {
      "cell_type": "code",
      "execution_count": null,
      "metadata": {},
      "outputs": [],
      "source": [
        "# make predictions\n",
        "y_test_pred = model(x_test)\n",
        "\n",
        "# invert predictions\n",
        "y_train_pred = scaler.inverse_transform(y_train_pred.detach().numpy())\n",
        "y_train = scaler.inverse_transform(y_train.detach().numpy())\n",
        "y_test_pred = scaler.inverse_transform(y_test_pred.detach().numpy())\n",
        "y_test = scaler.inverse_transform(y_test.detach().numpy())\n",
        "\n",
        "# calculate root mean squared error\n",
        "trainScore = math.sqrt(mean_squared_error(y_train[:,0], y_train_pred[:,0]))\n",
        "print('Train Score: %.2f RMSE' % (trainScore))\n",
        "testScore = math.sqrt(mean_squared_error(y_test[:,0], y_test_pred[:,0]))\n",
        "print('Test Score: %.2f RMSE' % (testScore))"
      ]
    },
    {
      "cell_type": "code",
      "execution_count": null,
      "metadata": {},
      "outputs": [],
      "source": [
        "# Visualising the results\n",
        "figure, axes = plt.subplots(figsize=(15, 6))\n",
        "axes.xaxis_date()\n",
        "\n",
        "axes.plot(df_fin[len(df_fin)-len(y_test):].index, y_test, color = 'red', label = 'Real IBM Stock Price')\n",
        "axes.plot(df_fin[len(df_fin)-len(y_test):].index, y_test_pred, color = 'blue', label = 'Predicted IBM Stock Price')\n",
        "#axes.xticks(np.arange(0,394,50))\n",
        "plt.title('IBM Stock Price Prediction')\n",
        "plt.xlabel('Time')\n",
        "plt.ylabel('IBM Stock Price')\n",
        "plt.legend()\n",
        "plt.savefig('ibm_pred.png')\n",
        "plt.show()"
      ]
    }
  ],
  "metadata": {
    "colab": {
      "collapsed_sections": [
        "nqECZdj-apRi",
        "zialb1ydvR1b",
        "WTy7yaHkBftt",
        "1Kb7tLvaBftv",
        "89AYg6svBftw"
      ],
      "include_colab_link": true,
      "provenance": []
    },
    "kernelspec": {
      "display_name": "jup",
      "language": "python",
      "name": "python3"
    },
    "language_info": {
      "codemirror_mode": {
        "name": "ipython",
        "version": 3
      },
      "file_extension": ".py",
      "mimetype": "text/x-python",
      "name": "python",
      "nbconvert_exporter": "python",
      "pygments_lexer": "ipython3",
      "version": "3.8.15"
    },
    "vscode": {
      "interpreter": {
        "hash": "03d522a7aaf957b32e1f3c35d698e3d655ebc6e421de856c2141e007302a70db"
      }
    },
    "widgets": {
      "application/vnd.jupyter.widget-state+json": {
        "0158a467c4854b10b1958f934e1caf1d": {
          "model_module": "@jupyter-widgets/base",
          "model_module_version": "1.2.0",
          "model_name": "LayoutModel",
          "state": {
            "_model_module": "@jupyter-widgets/base",
            "_model_module_version": "1.2.0",
            "_model_name": "LayoutModel",
            "_view_count": null,
            "_view_module": "@jupyter-widgets/base",
            "_view_module_version": "1.2.0",
            "_view_name": "LayoutView",
            "align_content": null,
            "align_items": null,
            "align_self": null,
            "border": null,
            "bottom": null,
            "display": null,
            "flex": null,
            "flex_flow": null,
            "grid_area": null,
            "grid_auto_columns": null,
            "grid_auto_flow": null,
            "grid_auto_rows": null,
            "grid_column": null,
            "grid_gap": null,
            "grid_row": null,
            "grid_template_areas": null,
            "grid_template_columns": null,
            "grid_template_rows": null,
            "height": null,
            "justify_content": null,
            "justify_items": null,
            "left": null,
            "margin": null,
            "max_height": null,
            "max_width": null,
            "min_height": null,
            "min_width": null,
            "object_fit": null,
            "object_position": null,
            "order": null,
            "overflow": null,
            "overflow_x": null,
            "overflow_y": null,
            "padding": null,
            "right": null,
            "top": null,
            "visibility": null,
            "width": null
          }
        },
        "02aaa4a79c8941cf9fac6f71920412cd": {
          "model_module": "@jupyter-widgets/controls",
          "model_module_version": "1.5.0",
          "model_name": "HTMLModel",
          "state": {
            "_dom_classes": [],
            "_model_module": "@jupyter-widgets/controls",
            "_model_module_version": "1.5.0",
            "_model_name": "HTMLModel",
            "_view_count": null,
            "_view_module": "@jupyter-widgets/controls",
            "_view_module_version": "1.5.0",
            "_view_name": "HTMLView",
            "description": "",
            "description_tooltip": null,
            "layout": "IPY_MODEL_05b3c442448746769229031f03da176a",
            "placeholder": "​",
            "style": "IPY_MODEL_fd26d227ee594effbb07ead36259364b",
            "value": "Downloading: 100%"
          }
        },
        "05b3c442448746769229031f03da176a": {
          "model_module": "@jupyter-widgets/base",
          "model_module_version": "1.2.0",
          "model_name": "LayoutModel",
          "state": {
            "_model_module": "@jupyter-widgets/base",
            "_model_module_version": "1.2.0",
            "_model_name": "LayoutModel",
            "_view_count": null,
            "_view_module": "@jupyter-widgets/base",
            "_view_module_version": "1.2.0",
            "_view_name": "LayoutView",
            "align_content": null,
            "align_items": null,
            "align_self": null,
            "border": null,
            "bottom": null,
            "display": null,
            "flex": null,
            "flex_flow": null,
            "grid_area": null,
            "grid_auto_columns": null,
            "grid_auto_flow": null,
            "grid_auto_rows": null,
            "grid_column": null,
            "grid_gap": null,
            "grid_row": null,
            "grid_template_areas": null,
            "grid_template_columns": null,
            "grid_template_rows": null,
            "height": null,
            "justify_content": null,
            "justify_items": null,
            "left": null,
            "margin": null,
            "max_height": null,
            "max_width": null,
            "min_height": null,
            "min_width": null,
            "object_fit": null,
            "object_position": null,
            "order": null,
            "overflow": null,
            "overflow_x": null,
            "overflow_y": null,
            "padding": null,
            "right": null,
            "top": null,
            "visibility": null,
            "width": null
          }
        },
        "14c359bbf77347efba53837d2a8ecf43": {
          "model_module": "@jupyter-widgets/controls",
          "model_module_version": "1.5.0",
          "model_name": "DescriptionStyleModel",
          "state": {
            "_model_module": "@jupyter-widgets/controls",
            "_model_module_version": "1.5.0",
            "_model_name": "DescriptionStyleModel",
            "_view_count": null,
            "_view_module": "@jupyter-widgets/base",
            "_view_module_version": "1.2.0",
            "_view_name": "StyleView",
            "description_width": ""
          }
        },
        "1ff9267e01164820bc1048522681da3a": {
          "model_module": "@jupyter-widgets/controls",
          "model_module_version": "1.5.0",
          "model_name": "HBoxModel",
          "state": {
            "_dom_classes": [],
            "_model_module": "@jupyter-widgets/controls",
            "_model_module_version": "1.5.0",
            "_model_name": "HBoxModel",
            "_view_count": null,
            "_view_module": "@jupyter-widgets/controls",
            "_view_module_version": "1.5.0",
            "_view_name": "HBoxView",
            "box_style": "",
            "children": [
              "IPY_MODEL_02aaa4a79c8941cf9fac6f71920412cd",
              "IPY_MODEL_a84ee03c846f4d40b3c8a592244c49d0",
              "IPY_MODEL_daaa5101fc3f4be980109db73d346846"
            ],
            "layout": "IPY_MODEL_bc44d44c32d94c42a5901104a9d5ae9f"
          }
        },
        "207652bd71324c5a97a44ce1f0ed9fef": {
          "model_module": "@jupyter-widgets/controls",
          "model_module_version": "1.5.0",
          "model_name": "HTMLModel",
          "state": {
            "_dom_classes": [],
            "_model_module": "@jupyter-widgets/controls",
            "_model_module_version": "1.5.0",
            "_model_name": "HTMLModel",
            "_view_count": null,
            "_view_module": "@jupyter-widgets/controls",
            "_view_module_version": "1.5.0",
            "_view_name": "HTMLView",
            "description": "",
            "description_tooltip": null,
            "layout": "IPY_MODEL_dbe0aec775614cd6a62f414183336fb3",
            "placeholder": "​",
            "style": "IPY_MODEL_686d5878eaad4b839b88bdd27333754d",
            "value": "Downloading: 100%"
          }
        },
        "20be2daf64b04b698fd5ff88f9f0cf9d": {
          "model_module": "@jupyter-widgets/base",
          "model_module_version": "1.2.0",
          "model_name": "LayoutModel",
          "state": {
            "_model_module": "@jupyter-widgets/base",
            "_model_module_version": "1.2.0",
            "_model_name": "LayoutModel",
            "_view_count": null,
            "_view_module": "@jupyter-widgets/base",
            "_view_module_version": "1.2.0",
            "_view_name": "LayoutView",
            "align_content": null,
            "align_items": null,
            "align_self": null,
            "border": null,
            "bottom": null,
            "display": null,
            "flex": null,
            "flex_flow": null,
            "grid_area": null,
            "grid_auto_columns": null,
            "grid_auto_flow": null,
            "grid_auto_rows": null,
            "grid_column": null,
            "grid_gap": null,
            "grid_row": null,
            "grid_template_areas": null,
            "grid_template_columns": null,
            "grid_template_rows": null,
            "height": null,
            "justify_content": null,
            "justify_items": null,
            "left": null,
            "margin": null,
            "max_height": null,
            "max_width": null,
            "min_height": null,
            "min_width": null,
            "object_fit": null,
            "object_position": null,
            "order": null,
            "overflow": null,
            "overflow_x": null,
            "overflow_y": null,
            "padding": null,
            "right": null,
            "top": null,
            "visibility": null,
            "width": null
          }
        },
        "2cf325982ace45fd99bfee69a2a0ad6e": {
          "model_module": "@jupyter-widgets/base",
          "model_module_version": "1.2.0",
          "model_name": "LayoutModel",
          "state": {
            "_model_module": "@jupyter-widgets/base",
            "_model_module_version": "1.2.0",
            "_model_name": "LayoutModel",
            "_view_count": null,
            "_view_module": "@jupyter-widgets/base",
            "_view_module_version": "1.2.0",
            "_view_name": "LayoutView",
            "align_content": null,
            "align_items": null,
            "align_self": null,
            "border": null,
            "bottom": null,
            "display": null,
            "flex": null,
            "flex_flow": null,
            "grid_area": null,
            "grid_auto_columns": null,
            "grid_auto_flow": null,
            "grid_auto_rows": null,
            "grid_column": null,
            "grid_gap": null,
            "grid_row": null,
            "grid_template_areas": null,
            "grid_template_columns": null,
            "grid_template_rows": null,
            "height": null,
            "justify_content": null,
            "justify_items": null,
            "left": null,
            "margin": null,
            "max_height": null,
            "max_width": null,
            "min_height": null,
            "min_width": null,
            "object_fit": null,
            "object_position": null,
            "order": null,
            "overflow": null,
            "overflow_x": null,
            "overflow_y": null,
            "padding": null,
            "right": null,
            "top": null,
            "visibility": null,
            "width": null
          }
        },
        "318824eda14d496fac1c2cc72773005c": {
          "model_module": "@jupyter-widgets/controls",
          "model_module_version": "1.5.0",
          "model_name": "DescriptionStyleModel",
          "state": {
            "_model_module": "@jupyter-widgets/controls",
            "_model_module_version": "1.5.0",
            "_model_name": "DescriptionStyleModel",
            "_view_count": null,
            "_view_module": "@jupyter-widgets/base",
            "_view_module_version": "1.2.0",
            "_view_name": "StyleView",
            "description_width": ""
          }
        },
        "324088b05ff1439793e8fa787a753bd9": {
          "model_module": "@jupyter-widgets/controls",
          "model_module_version": "1.5.0",
          "model_name": "ProgressStyleModel",
          "state": {
            "_model_module": "@jupyter-widgets/controls",
            "_model_module_version": "1.5.0",
            "_model_name": "ProgressStyleModel",
            "_view_count": null,
            "_view_module": "@jupyter-widgets/base",
            "_view_module_version": "1.2.0",
            "_view_name": "StyleView",
            "bar_color": null,
            "description_width": ""
          }
        },
        "3338093df4aa48e28a545e1315dfce5d": {
          "model_module": "@jupyter-widgets/controls",
          "model_module_version": "1.5.0",
          "model_name": "ProgressStyleModel",
          "state": {
            "_model_module": "@jupyter-widgets/controls",
            "_model_module_version": "1.5.0",
            "_model_name": "ProgressStyleModel",
            "_view_count": null,
            "_view_module": "@jupyter-widgets/base",
            "_view_module_version": "1.2.0",
            "_view_name": "StyleView",
            "bar_color": null,
            "description_width": ""
          }
        },
        "33fdbefcecd943f888e5fac2699c2446": {
          "model_module": "@jupyter-widgets/controls",
          "model_module_version": "1.5.0",
          "model_name": "DescriptionStyleModel",
          "state": {
            "_model_module": "@jupyter-widgets/controls",
            "_model_module_version": "1.5.0",
            "_model_name": "DescriptionStyleModel",
            "_view_count": null,
            "_view_module": "@jupyter-widgets/base",
            "_view_module_version": "1.2.0",
            "_view_name": "StyleView",
            "description_width": ""
          }
        },
        "3db4702ac28b4a8dba726d5acc6ccc38": {
          "model_module": "@jupyter-widgets/controls",
          "model_module_version": "1.5.0",
          "model_name": "HTMLModel",
          "state": {
            "_dom_classes": [],
            "_model_module": "@jupyter-widgets/controls",
            "_model_module_version": "1.5.0",
            "_model_name": "HTMLModel",
            "_view_count": null,
            "_view_module": "@jupyter-widgets/controls",
            "_view_module_version": "1.5.0",
            "_view_name": "HTMLView",
            "description": "",
            "description_tooltip": null,
            "layout": "IPY_MODEL_9f0172d12d014e18956c605d545b856d",
            "placeholder": "​",
            "style": "IPY_MODEL_a27e4fa486564d61b0141f3b2bbcb44e",
            "value": "Downloading: 100%"
          }
        },
        "440642eaf03045888a29f4f6c695e124": {
          "model_module": "@jupyter-widgets/controls",
          "model_module_version": "1.5.0",
          "model_name": "DescriptionStyleModel",
          "state": {
            "_model_module": "@jupyter-widgets/controls",
            "_model_module_version": "1.5.0",
            "_model_name": "DescriptionStyleModel",
            "_view_count": null,
            "_view_module": "@jupyter-widgets/base",
            "_view_module_version": "1.2.0",
            "_view_name": "StyleView",
            "description_width": ""
          }
        },
        "490314b251ac45e6a2fa416e82f7506c": {
          "model_module": "@jupyter-widgets/base",
          "model_module_version": "1.2.0",
          "model_name": "LayoutModel",
          "state": {
            "_model_module": "@jupyter-widgets/base",
            "_model_module_version": "1.2.0",
            "_model_name": "LayoutModel",
            "_view_count": null,
            "_view_module": "@jupyter-widgets/base",
            "_view_module_version": "1.2.0",
            "_view_name": "LayoutView",
            "align_content": null,
            "align_items": null,
            "align_self": null,
            "border": null,
            "bottom": null,
            "display": null,
            "flex": null,
            "flex_flow": null,
            "grid_area": null,
            "grid_auto_columns": null,
            "grid_auto_flow": null,
            "grid_auto_rows": null,
            "grid_column": null,
            "grid_gap": null,
            "grid_row": null,
            "grid_template_areas": null,
            "grid_template_columns": null,
            "grid_template_rows": null,
            "height": null,
            "justify_content": null,
            "justify_items": null,
            "left": null,
            "margin": null,
            "max_height": null,
            "max_width": null,
            "min_height": null,
            "min_width": null,
            "object_fit": null,
            "object_position": null,
            "order": null,
            "overflow": null,
            "overflow_x": null,
            "overflow_y": null,
            "padding": null,
            "right": null,
            "top": null,
            "visibility": null,
            "width": null
          }
        },
        "4b724c200c0242b8a1b9a5b59c07d32f": {
          "model_module": "@jupyter-widgets/controls",
          "model_module_version": "1.5.0",
          "model_name": "HBoxModel",
          "state": {
            "_dom_classes": [],
            "_model_module": "@jupyter-widgets/controls",
            "_model_module_version": "1.5.0",
            "_model_name": "HBoxModel",
            "_view_count": null,
            "_view_module": "@jupyter-widgets/controls",
            "_view_module_version": "1.5.0",
            "_view_name": "HBoxView",
            "box_style": "",
            "children": [
              "IPY_MODEL_7cd435948a7b4c82bd7fc8b13cc75404",
              "IPY_MODEL_99984c9d13044894916c7ed3c8917a0a",
              "IPY_MODEL_b7300a3ebe72445b9a8a8189c63b9ff5"
            ],
            "layout": "IPY_MODEL_490314b251ac45e6a2fa416e82f7506c"
          }
        },
        "4c26f8bb62fa4d8b8413121aa00db0a6": {
          "model_module": "@jupyter-widgets/controls",
          "model_module_version": "1.5.0",
          "model_name": "HTMLModel",
          "state": {
            "_dom_classes": [],
            "_model_module": "@jupyter-widgets/controls",
            "_model_module_version": "1.5.0",
            "_model_name": "HTMLModel",
            "_view_count": null,
            "_view_module": "@jupyter-widgets/controls",
            "_view_module_version": "1.5.0",
            "_view_name": "HTMLView",
            "description": "",
            "description_tooltip": null,
            "layout": "IPY_MODEL_d77992abd030480b8085406eead3aebf",
            "placeholder": "​",
            "style": "IPY_MODEL_50c3e9459078439482dcd5664729f207",
            "value": " 758/758 [00:00&lt;00:00, 23.0kB/s]"
          }
        },
        "4c879976102047b491b6cab48e0bf009": {
          "model_module": "@jupyter-widgets/base",
          "model_module_version": "1.2.0",
          "model_name": "LayoutModel",
          "state": {
            "_model_module": "@jupyter-widgets/base",
            "_model_module_version": "1.2.0",
            "_model_name": "LayoutModel",
            "_view_count": null,
            "_view_module": "@jupyter-widgets/base",
            "_view_module_version": "1.2.0",
            "_view_name": "LayoutView",
            "align_content": null,
            "align_items": null,
            "align_self": null,
            "border": null,
            "bottom": null,
            "display": null,
            "flex": null,
            "flex_flow": null,
            "grid_area": null,
            "grid_auto_columns": null,
            "grid_auto_flow": null,
            "grid_auto_rows": null,
            "grid_column": null,
            "grid_gap": null,
            "grid_row": null,
            "grid_template_areas": null,
            "grid_template_columns": null,
            "grid_template_rows": null,
            "height": null,
            "justify_content": null,
            "justify_items": null,
            "left": null,
            "margin": null,
            "max_height": null,
            "max_width": null,
            "min_height": null,
            "min_width": null,
            "object_fit": null,
            "object_position": null,
            "order": null,
            "overflow": null,
            "overflow_x": null,
            "overflow_y": null,
            "padding": null,
            "right": null,
            "top": null,
            "visibility": null,
            "width": null
          }
        },
        "50c3e9459078439482dcd5664729f207": {
          "model_module": "@jupyter-widgets/controls",
          "model_module_version": "1.5.0",
          "model_name": "DescriptionStyleModel",
          "state": {
            "_model_module": "@jupyter-widgets/controls",
            "_model_module_version": "1.5.0",
            "_model_name": "DescriptionStyleModel",
            "_view_count": null,
            "_view_module": "@jupyter-widgets/base",
            "_view_module_version": "1.2.0",
            "_view_name": "StyleView",
            "description_width": ""
          }
        },
        "58830963c7e24554b32973478592c3d1": {
          "model_module": "@jupyter-widgets/controls",
          "model_module_version": "1.5.0",
          "model_name": "ProgressStyleModel",
          "state": {
            "_model_module": "@jupyter-widgets/controls",
            "_model_module_version": "1.5.0",
            "_model_name": "ProgressStyleModel",
            "_view_count": null,
            "_view_module": "@jupyter-widgets/base",
            "_view_module_version": "1.2.0",
            "_view_name": "StyleView",
            "bar_color": null,
            "description_width": ""
          }
        },
        "5c47f2ec96234cdb9b88860970d6cc26": {
          "model_module": "@jupyter-widgets/controls",
          "model_module_version": "1.5.0",
          "model_name": "DescriptionStyleModel",
          "state": {
            "_model_module": "@jupyter-widgets/controls",
            "_model_module_version": "1.5.0",
            "_model_name": "DescriptionStyleModel",
            "_view_count": null,
            "_view_module": "@jupyter-widgets/base",
            "_view_module_version": "1.2.0",
            "_view_name": "StyleView",
            "description_width": ""
          }
        },
        "5d99bb6c18fe4f15a66754a55dce4ecd": {
          "model_module": "@jupyter-widgets/controls",
          "model_module_version": "1.5.0",
          "model_name": "HBoxModel",
          "state": {
            "_dom_classes": [],
            "_model_module": "@jupyter-widgets/controls",
            "_model_module_version": "1.5.0",
            "_model_name": "HBoxModel",
            "_view_count": null,
            "_view_module": "@jupyter-widgets/controls",
            "_view_module_version": "1.5.0",
            "_view_name": "HBoxView",
            "box_style": "",
            "children": [
              "IPY_MODEL_682aa7bcbded4b4facc06ed26704a27a",
              "IPY_MODEL_b234a61ecb344969b33c1f7e4d297cd6",
              "IPY_MODEL_4c26f8bb62fa4d8b8413121aa00db0a6"
            ],
            "layout": "IPY_MODEL_909efd28b1b644fda0dd786193ccee85"
          }
        },
        "63a7eae756894ff9832e9919b99d539d": {
          "model_module": "@jupyter-widgets/base",
          "model_module_version": "1.2.0",
          "model_name": "LayoutModel",
          "state": {
            "_model_module": "@jupyter-widgets/base",
            "_model_module_version": "1.2.0",
            "_model_name": "LayoutModel",
            "_view_count": null,
            "_view_module": "@jupyter-widgets/base",
            "_view_module_version": "1.2.0",
            "_view_name": "LayoutView",
            "align_content": null,
            "align_items": null,
            "align_self": null,
            "border": null,
            "bottom": null,
            "display": null,
            "flex": null,
            "flex_flow": null,
            "grid_area": null,
            "grid_auto_columns": null,
            "grid_auto_flow": null,
            "grid_auto_rows": null,
            "grid_column": null,
            "grid_gap": null,
            "grid_row": null,
            "grid_template_areas": null,
            "grid_template_columns": null,
            "grid_template_rows": null,
            "height": null,
            "justify_content": null,
            "justify_items": null,
            "left": null,
            "margin": null,
            "max_height": null,
            "max_width": null,
            "min_height": null,
            "min_width": null,
            "object_fit": null,
            "object_position": null,
            "order": null,
            "overflow": null,
            "overflow_x": null,
            "overflow_y": null,
            "padding": null,
            "right": null,
            "top": null,
            "visibility": null,
            "width": null
          }
        },
        "682aa7bcbded4b4facc06ed26704a27a": {
          "model_module": "@jupyter-widgets/controls",
          "model_module_version": "1.5.0",
          "model_name": "HTMLModel",
          "state": {
            "_dom_classes": [],
            "_model_module": "@jupyter-widgets/controls",
            "_model_module_version": "1.5.0",
            "_model_name": "HTMLModel",
            "_view_count": null,
            "_view_module": "@jupyter-widgets/controls",
            "_view_module_version": "1.5.0",
            "_view_name": "HTMLView",
            "description": "",
            "description_tooltip": null,
            "layout": "IPY_MODEL_2cf325982ace45fd99bfee69a2a0ad6e",
            "placeholder": "​",
            "style": "IPY_MODEL_440642eaf03045888a29f4f6c695e124",
            "value": "Downloading: 100%"
          }
        },
        "686d5878eaad4b839b88bdd27333754d": {
          "model_module": "@jupyter-widgets/controls",
          "model_module_version": "1.5.0",
          "model_name": "DescriptionStyleModel",
          "state": {
            "_model_module": "@jupyter-widgets/controls",
            "_model_module_version": "1.5.0",
            "_model_name": "DescriptionStyleModel",
            "_view_count": null,
            "_view_module": "@jupyter-widgets/base",
            "_view_module_version": "1.2.0",
            "_view_name": "StyleView",
            "description_width": ""
          }
        },
        "6a1175a467a645e1bfd988ad1ad76981": {
          "model_module": "@jupyter-widgets/controls",
          "model_module_version": "1.5.0",
          "model_name": "HTMLModel",
          "state": {
            "_dom_classes": [],
            "_model_module": "@jupyter-widgets/controls",
            "_model_module_version": "1.5.0",
            "_model_name": "HTMLModel",
            "_view_count": null,
            "_view_module": "@jupyter-widgets/controls",
            "_view_module_version": "1.5.0",
            "_view_name": "HTMLView",
            "description": "",
            "description_tooltip": null,
            "layout": "IPY_MODEL_7a3bc4794d8545759520608ad7e7094d",
            "placeholder": "​",
            "style": "IPY_MODEL_14c359bbf77347efba53837d2a8ecf43",
            "value": " 252/252 [00:00&lt;00:00, 7.63kB/s]"
          }
        },
        "7824dd92e2f74dd1bf9f7160352cb6b6": {
          "model_module": "@jupyter-widgets/base",
          "model_module_version": "1.2.0",
          "model_name": "LayoutModel",
          "state": {
            "_model_module": "@jupyter-widgets/base",
            "_model_module_version": "1.2.0",
            "_model_name": "LayoutModel",
            "_view_count": null,
            "_view_module": "@jupyter-widgets/base",
            "_view_module_version": "1.2.0",
            "_view_name": "LayoutView",
            "align_content": null,
            "align_items": null,
            "align_self": null,
            "border": null,
            "bottom": null,
            "display": null,
            "flex": null,
            "flex_flow": null,
            "grid_area": null,
            "grid_auto_columns": null,
            "grid_auto_flow": null,
            "grid_auto_rows": null,
            "grid_column": null,
            "grid_gap": null,
            "grid_row": null,
            "grid_template_areas": null,
            "grid_template_columns": null,
            "grid_template_rows": null,
            "height": null,
            "justify_content": null,
            "justify_items": null,
            "left": null,
            "margin": null,
            "max_height": null,
            "max_width": null,
            "min_height": null,
            "min_width": null,
            "object_fit": null,
            "object_position": null,
            "order": null,
            "overflow": null,
            "overflow_x": null,
            "overflow_y": null,
            "padding": null,
            "right": null,
            "top": null,
            "visibility": null,
            "width": null
          }
        },
        "7a3bc4794d8545759520608ad7e7094d": {
          "model_module": "@jupyter-widgets/base",
          "model_module_version": "1.2.0",
          "model_name": "LayoutModel",
          "state": {
            "_model_module": "@jupyter-widgets/base",
            "_model_module_version": "1.2.0",
            "_model_name": "LayoutModel",
            "_view_count": null,
            "_view_module": "@jupyter-widgets/base",
            "_view_module_version": "1.2.0",
            "_view_name": "LayoutView",
            "align_content": null,
            "align_items": null,
            "align_self": null,
            "border": null,
            "bottom": null,
            "display": null,
            "flex": null,
            "flex_flow": null,
            "grid_area": null,
            "grid_auto_columns": null,
            "grid_auto_flow": null,
            "grid_auto_rows": null,
            "grid_column": null,
            "grid_gap": null,
            "grid_row": null,
            "grid_template_areas": null,
            "grid_template_columns": null,
            "grid_template_rows": null,
            "height": null,
            "justify_content": null,
            "justify_items": null,
            "left": null,
            "margin": null,
            "max_height": null,
            "max_width": null,
            "min_height": null,
            "min_width": null,
            "object_fit": null,
            "object_position": null,
            "order": null,
            "overflow": null,
            "overflow_x": null,
            "overflow_y": null,
            "padding": null,
            "right": null,
            "top": null,
            "visibility": null,
            "width": null
          }
        },
        "7cd435948a7b4c82bd7fc8b13cc75404": {
          "model_module": "@jupyter-widgets/controls",
          "model_module_version": "1.5.0",
          "model_name": "HTMLModel",
          "state": {
            "_dom_classes": [],
            "_model_module": "@jupyter-widgets/controls",
            "_model_module_version": "1.5.0",
            "_model_name": "HTMLModel",
            "_view_count": null,
            "_view_module": "@jupyter-widgets/controls",
            "_view_module_version": "1.5.0",
            "_view_name": "HTMLView",
            "description": "",
            "description_tooltip": null,
            "layout": "IPY_MODEL_0158a467c4854b10b1958f934e1caf1d",
            "placeholder": "​",
            "style": "IPY_MODEL_318824eda14d496fac1c2cc72773005c",
            "value": "Downloading: 100%"
          }
        },
        "7d6a51a98ca24196b7d07a91a20cbdee": {
          "model_module": "@jupyter-widgets/base",
          "model_module_version": "1.2.0",
          "model_name": "LayoutModel",
          "state": {
            "_model_module": "@jupyter-widgets/base",
            "_model_module_version": "1.2.0",
            "_model_name": "LayoutModel",
            "_view_count": null,
            "_view_module": "@jupyter-widgets/base",
            "_view_module_version": "1.2.0",
            "_view_name": "LayoutView",
            "align_content": null,
            "align_items": null,
            "align_self": null,
            "border": null,
            "bottom": null,
            "display": null,
            "flex": null,
            "flex_flow": null,
            "grid_area": null,
            "grid_auto_columns": null,
            "grid_auto_flow": null,
            "grid_auto_rows": null,
            "grid_column": null,
            "grid_gap": null,
            "grid_row": null,
            "grid_template_areas": null,
            "grid_template_columns": null,
            "grid_template_rows": null,
            "height": null,
            "justify_content": null,
            "justify_items": null,
            "left": null,
            "margin": null,
            "max_height": null,
            "max_width": null,
            "min_height": null,
            "min_width": null,
            "object_fit": null,
            "object_position": null,
            "order": null,
            "overflow": null,
            "overflow_x": null,
            "overflow_y": null,
            "padding": null,
            "right": null,
            "top": null,
            "visibility": null,
            "width": null
          }
        },
        "909efd28b1b644fda0dd786193ccee85": {
          "model_module": "@jupyter-widgets/base",
          "model_module_version": "1.2.0",
          "model_name": "LayoutModel",
          "state": {
            "_model_module": "@jupyter-widgets/base",
            "_model_module_version": "1.2.0",
            "_model_name": "LayoutModel",
            "_view_count": null,
            "_view_module": "@jupyter-widgets/base",
            "_view_module_version": "1.2.0",
            "_view_name": "LayoutView",
            "align_content": null,
            "align_items": null,
            "align_self": null,
            "border": null,
            "bottom": null,
            "display": null,
            "flex": null,
            "flex_flow": null,
            "grid_area": null,
            "grid_auto_columns": null,
            "grid_auto_flow": null,
            "grid_auto_rows": null,
            "grid_column": null,
            "grid_gap": null,
            "grid_row": null,
            "grid_template_areas": null,
            "grid_template_columns": null,
            "grid_template_rows": null,
            "height": null,
            "justify_content": null,
            "justify_items": null,
            "left": null,
            "margin": null,
            "max_height": null,
            "max_width": null,
            "min_height": null,
            "min_width": null,
            "object_fit": null,
            "object_position": null,
            "order": null,
            "overflow": null,
            "overflow_x": null,
            "overflow_y": null,
            "padding": null,
            "right": null,
            "top": null,
            "visibility": null,
            "width": null
          }
        },
        "9382414c64a8435689621134f2cd200e": {
          "model_module": "@jupyter-widgets/controls",
          "model_module_version": "1.5.0",
          "model_name": "ProgressStyleModel",
          "state": {
            "_model_module": "@jupyter-widgets/controls",
            "_model_module_version": "1.5.0",
            "_model_name": "ProgressStyleModel",
            "_view_count": null,
            "_view_module": "@jupyter-widgets/base",
            "_view_module_version": "1.2.0",
            "_view_name": "StyleView",
            "bar_color": null,
            "description_width": ""
          }
        },
        "99984c9d13044894916c7ed3c8917a0a": {
          "model_module": "@jupyter-widgets/controls",
          "model_module_version": "1.5.0",
          "model_name": "FloatProgressModel",
          "state": {
            "_dom_classes": [],
            "_model_module": "@jupyter-widgets/controls",
            "_model_module_version": "1.5.0",
            "_model_name": "FloatProgressModel",
            "_view_count": null,
            "_view_module": "@jupyter-widgets/controls",
            "_view_module_version": "1.5.0",
            "_view_name": "ProgressView",
            "bar_style": "success",
            "description": "",
            "description_tooltip": null,
            "layout": "IPY_MODEL_63a7eae756894ff9832e9919b99d539d",
            "max": 231508,
            "min": 0,
            "orientation": "horizontal",
            "style": "IPY_MODEL_324088b05ff1439793e8fa787a753bd9",
            "value": 231508
          }
        },
        "9f0172d12d014e18956c605d545b856d": {
          "model_module": "@jupyter-widgets/base",
          "model_module_version": "1.2.0",
          "model_name": "LayoutModel",
          "state": {
            "_model_module": "@jupyter-widgets/base",
            "_model_module_version": "1.2.0",
            "_model_name": "LayoutModel",
            "_view_count": null,
            "_view_module": "@jupyter-widgets/base",
            "_view_module_version": "1.2.0",
            "_view_name": "LayoutView",
            "align_content": null,
            "align_items": null,
            "align_self": null,
            "border": null,
            "bottom": null,
            "display": null,
            "flex": null,
            "flex_flow": null,
            "grid_area": null,
            "grid_auto_columns": null,
            "grid_auto_flow": null,
            "grid_auto_rows": null,
            "grid_column": null,
            "grid_gap": null,
            "grid_row": null,
            "grid_template_areas": null,
            "grid_template_columns": null,
            "grid_template_rows": null,
            "height": null,
            "justify_content": null,
            "justify_items": null,
            "left": null,
            "margin": null,
            "max_height": null,
            "max_width": null,
            "min_height": null,
            "min_width": null,
            "object_fit": null,
            "object_position": null,
            "order": null,
            "overflow": null,
            "overflow_x": null,
            "overflow_y": null,
            "padding": null,
            "right": null,
            "top": null,
            "visibility": null,
            "width": null
          }
        },
        "a27e4fa486564d61b0141f3b2bbcb44e": {
          "model_module": "@jupyter-widgets/controls",
          "model_module_version": "1.5.0",
          "model_name": "DescriptionStyleModel",
          "state": {
            "_model_module": "@jupyter-widgets/controls",
            "_model_module_version": "1.5.0",
            "_model_name": "DescriptionStyleModel",
            "_view_count": null,
            "_view_module": "@jupyter-widgets/base",
            "_view_module_version": "1.2.0",
            "_view_name": "StyleView",
            "description_width": ""
          }
        },
        "a727a04e03d64baf8ec20f04a37e980e": {
          "model_module": "@jupyter-widgets/controls",
          "model_module_version": "1.5.0",
          "model_name": "HBoxModel",
          "state": {
            "_dom_classes": [],
            "_model_module": "@jupyter-widgets/controls",
            "_model_module_version": "1.5.0",
            "_model_name": "HBoxModel",
            "_view_count": null,
            "_view_module": "@jupyter-widgets/controls",
            "_view_module_version": "1.5.0",
            "_view_name": "HBoxView",
            "box_style": "",
            "children": [
              "IPY_MODEL_207652bd71324c5a97a44ce1f0ed9fef",
              "IPY_MODEL_c1da93e71f944893af1a6013ffe15406",
              "IPY_MODEL_d0f3651f8aa242f2ba539eece36d2468"
            ],
            "layout": "IPY_MODEL_e06a6371000d44edb68314c4a4be09fd"
          }
        },
        "a84ee03c846f4d40b3c8a592244c49d0": {
          "model_module": "@jupyter-widgets/controls",
          "model_module_version": "1.5.0",
          "model_name": "FloatProgressModel",
          "state": {
            "_dom_classes": [],
            "_model_module": "@jupyter-widgets/controls",
            "_model_module_version": "1.5.0",
            "_model_name": "FloatProgressModel",
            "_view_count": null,
            "_view_module": "@jupyter-widgets/controls",
            "_view_module_version": "1.5.0",
            "_view_name": "ProgressView",
            "bar_style": "success",
            "description": "",
            "description_tooltip": null,
            "layout": "IPY_MODEL_7d6a51a98ca24196b7d07a91a20cbdee",
            "max": 112,
            "min": 0,
            "orientation": "horizontal",
            "style": "IPY_MODEL_58830963c7e24554b32973478592c3d1",
            "value": 112
          }
        },
        "aab1fccfb9ec44ef81d40764b1101047": {
          "model_module": "@jupyter-widgets/base",
          "model_module_version": "1.2.0",
          "model_name": "LayoutModel",
          "state": {
            "_model_module": "@jupyter-widgets/base",
            "_model_module_version": "1.2.0",
            "_model_name": "LayoutModel",
            "_view_count": null,
            "_view_module": "@jupyter-widgets/base",
            "_view_module_version": "1.2.0",
            "_view_name": "LayoutView",
            "align_content": null,
            "align_items": null,
            "align_self": null,
            "border": null,
            "bottom": null,
            "display": null,
            "flex": null,
            "flex_flow": null,
            "grid_area": null,
            "grid_auto_columns": null,
            "grid_auto_flow": null,
            "grid_auto_rows": null,
            "grid_column": null,
            "grid_gap": null,
            "grid_row": null,
            "grid_template_areas": null,
            "grid_template_columns": null,
            "grid_template_rows": null,
            "height": null,
            "justify_content": null,
            "justify_items": null,
            "left": null,
            "margin": null,
            "max_height": null,
            "max_width": null,
            "min_height": null,
            "min_width": null,
            "object_fit": null,
            "object_position": null,
            "order": null,
            "overflow": null,
            "overflow_x": null,
            "overflow_y": null,
            "padding": null,
            "right": null,
            "top": null,
            "visibility": null,
            "width": null
          }
        },
        "b234a61ecb344969b33c1f7e4d297cd6": {
          "model_module": "@jupyter-widgets/controls",
          "model_module_version": "1.5.0",
          "model_name": "FloatProgressModel",
          "state": {
            "_dom_classes": [],
            "_model_module": "@jupyter-widgets/controls",
            "_model_module_version": "1.5.0",
            "_model_name": "FloatProgressModel",
            "_view_count": null,
            "_view_module": "@jupyter-widgets/controls",
            "_view_module_version": "1.5.0",
            "_view_name": "ProgressView",
            "bar_style": "success",
            "description": "",
            "description_tooltip": null,
            "layout": "IPY_MODEL_7824dd92e2f74dd1bf9f7160352cb6b6",
            "max": 758,
            "min": 0,
            "orientation": "horizontal",
            "style": "IPY_MODEL_9382414c64a8435689621134f2cd200e",
            "value": 758
          }
        },
        "b7300a3ebe72445b9a8a8189c63b9ff5": {
          "model_module": "@jupyter-widgets/controls",
          "model_module_version": "1.5.0",
          "model_name": "HTMLModel",
          "state": {
            "_dom_classes": [],
            "_model_module": "@jupyter-widgets/controls",
            "_model_module_version": "1.5.0",
            "_model_name": "HTMLModel",
            "_view_count": null,
            "_view_module": "@jupyter-widgets/controls",
            "_view_module_version": "1.5.0",
            "_view_name": "HTMLView",
            "description": "",
            "description_tooltip": null,
            "layout": "IPY_MODEL_20be2daf64b04b698fd5ff88f9f0cf9d",
            "placeholder": "​",
            "style": "IPY_MODEL_c000dd77d1ce4fdeb9d7654e906fa05a",
            "value": " 232k/232k [00:00&lt;00:00, 7.31MB/s]"
          }
        },
        "bba495e617b143af9a30afd021f2083a": {
          "model_module": "@jupyter-widgets/base",
          "model_module_version": "1.2.0",
          "model_name": "LayoutModel",
          "state": {
            "_model_module": "@jupyter-widgets/base",
            "_model_module_version": "1.2.0",
            "_model_name": "LayoutModel",
            "_view_count": null,
            "_view_module": "@jupyter-widgets/base",
            "_view_module_version": "1.2.0",
            "_view_name": "LayoutView",
            "align_content": null,
            "align_items": null,
            "align_self": null,
            "border": null,
            "bottom": null,
            "display": null,
            "flex": null,
            "flex_flow": null,
            "grid_area": null,
            "grid_auto_columns": null,
            "grid_auto_flow": null,
            "grid_auto_rows": null,
            "grid_column": null,
            "grid_gap": null,
            "grid_row": null,
            "grid_template_areas": null,
            "grid_template_columns": null,
            "grid_template_rows": null,
            "height": null,
            "justify_content": null,
            "justify_items": null,
            "left": null,
            "margin": null,
            "max_height": null,
            "max_width": null,
            "min_height": null,
            "min_width": null,
            "object_fit": null,
            "object_position": null,
            "order": null,
            "overflow": null,
            "overflow_x": null,
            "overflow_y": null,
            "padding": null,
            "right": null,
            "top": null,
            "visibility": null,
            "width": null
          }
        },
        "bc44d44c32d94c42a5901104a9d5ae9f": {
          "model_module": "@jupyter-widgets/base",
          "model_module_version": "1.2.0",
          "model_name": "LayoutModel",
          "state": {
            "_model_module": "@jupyter-widgets/base",
            "_model_module_version": "1.2.0",
            "_model_name": "LayoutModel",
            "_view_count": null,
            "_view_module": "@jupyter-widgets/base",
            "_view_module_version": "1.2.0",
            "_view_name": "LayoutView",
            "align_content": null,
            "align_items": null,
            "align_self": null,
            "border": null,
            "bottom": null,
            "display": null,
            "flex": null,
            "flex_flow": null,
            "grid_area": null,
            "grid_auto_columns": null,
            "grid_auto_flow": null,
            "grid_auto_rows": null,
            "grid_column": null,
            "grid_gap": null,
            "grid_row": null,
            "grid_template_areas": null,
            "grid_template_columns": null,
            "grid_template_rows": null,
            "height": null,
            "justify_content": null,
            "justify_items": null,
            "left": null,
            "margin": null,
            "max_height": null,
            "max_width": null,
            "min_height": null,
            "min_width": null,
            "object_fit": null,
            "object_position": null,
            "order": null,
            "overflow": null,
            "overflow_x": null,
            "overflow_y": null,
            "padding": null,
            "right": null,
            "top": null,
            "visibility": null,
            "width": null
          }
        },
        "c000dd77d1ce4fdeb9d7654e906fa05a": {
          "model_module": "@jupyter-widgets/controls",
          "model_module_version": "1.5.0",
          "model_name": "DescriptionStyleModel",
          "state": {
            "_model_module": "@jupyter-widgets/controls",
            "_model_module_version": "1.5.0",
            "_model_name": "DescriptionStyleModel",
            "_view_count": null,
            "_view_module": "@jupyter-widgets/base",
            "_view_module_version": "1.2.0",
            "_view_name": "StyleView",
            "description_width": ""
          }
        },
        "c0877f62643947bd926046da5ba18f91": {
          "model_module": "@jupyter-widgets/base",
          "model_module_version": "1.2.0",
          "model_name": "LayoutModel",
          "state": {
            "_model_module": "@jupyter-widgets/base",
            "_model_module_version": "1.2.0",
            "_model_name": "LayoutModel",
            "_view_count": null,
            "_view_module": "@jupyter-widgets/base",
            "_view_module_version": "1.2.0",
            "_view_name": "LayoutView",
            "align_content": null,
            "align_items": null,
            "align_self": null,
            "border": null,
            "bottom": null,
            "display": null,
            "flex": null,
            "flex_flow": null,
            "grid_area": null,
            "grid_auto_columns": null,
            "grid_auto_flow": null,
            "grid_auto_rows": null,
            "grid_column": null,
            "grid_gap": null,
            "grid_row": null,
            "grid_template_areas": null,
            "grid_template_columns": null,
            "grid_template_rows": null,
            "height": null,
            "justify_content": null,
            "justify_items": null,
            "left": null,
            "margin": null,
            "max_height": null,
            "max_width": null,
            "min_height": null,
            "min_width": null,
            "object_fit": null,
            "object_position": null,
            "order": null,
            "overflow": null,
            "overflow_x": null,
            "overflow_y": null,
            "padding": null,
            "right": null,
            "top": null,
            "visibility": null,
            "width": null
          }
        },
        "c09e06af18fb420482556577250b5d85": {
          "model_module": "@jupyter-widgets/controls",
          "model_module_version": "1.5.0",
          "model_name": "FloatProgressModel",
          "state": {
            "_dom_classes": [],
            "_model_module": "@jupyter-widgets/controls",
            "_model_module_version": "1.5.0",
            "_model_name": "FloatProgressModel",
            "_view_count": null,
            "_view_module": "@jupyter-widgets/controls",
            "_view_module_version": "1.5.0",
            "_view_name": "ProgressView",
            "bar_style": "success",
            "description": "",
            "description_tooltip": null,
            "layout": "IPY_MODEL_4c879976102047b491b6cab48e0bf009",
            "max": 252,
            "min": 0,
            "orientation": "horizontal",
            "style": "IPY_MODEL_3338093df4aa48e28a545e1315dfce5d",
            "value": 252
          }
        },
        "c1da93e71f944893af1a6013ffe15406": {
          "model_module": "@jupyter-widgets/controls",
          "model_module_version": "1.5.0",
          "model_name": "FloatProgressModel",
          "state": {
            "_dom_classes": [],
            "_model_module": "@jupyter-widgets/controls",
            "_model_module_version": "1.5.0",
            "_model_name": "FloatProgressModel",
            "_view_count": null,
            "_view_module": "@jupyter-widgets/controls",
            "_view_module_version": "1.5.0",
            "_view_name": "ProgressView",
            "bar_style": "success",
            "description": "",
            "description_tooltip": null,
            "layout": "IPY_MODEL_c0877f62643947bd926046da5ba18f91",
            "max": 437992753,
            "min": 0,
            "orientation": "horizontal",
            "style": "IPY_MODEL_ed4fb3c0018b4a28aa7c07da0d76787c",
            "value": 437992753
          }
        },
        "d0f3651f8aa242f2ba539eece36d2468": {
          "model_module": "@jupyter-widgets/controls",
          "model_module_version": "1.5.0",
          "model_name": "HTMLModel",
          "state": {
            "_dom_classes": [],
            "_model_module": "@jupyter-widgets/controls",
            "_model_module_version": "1.5.0",
            "_model_name": "HTMLModel",
            "_view_count": null,
            "_view_module": "@jupyter-widgets/controls",
            "_view_module_version": "1.5.0",
            "_view_name": "HTMLView",
            "description": "",
            "description_tooltip": null,
            "layout": "IPY_MODEL_f41b1150b86b46a89aa8244a09fcf8da",
            "placeholder": "​",
            "style": "IPY_MODEL_33fdbefcecd943f888e5fac2699c2446",
            "value": " 438M/438M [00:18&lt;00:00, 18.1MB/s]"
          }
        },
        "d77992abd030480b8085406eead3aebf": {
          "model_module": "@jupyter-widgets/base",
          "model_module_version": "1.2.0",
          "model_name": "LayoutModel",
          "state": {
            "_model_module": "@jupyter-widgets/base",
            "_model_module_version": "1.2.0",
            "_model_name": "LayoutModel",
            "_view_count": null,
            "_view_module": "@jupyter-widgets/base",
            "_view_module_version": "1.2.0",
            "_view_name": "LayoutView",
            "align_content": null,
            "align_items": null,
            "align_self": null,
            "border": null,
            "bottom": null,
            "display": null,
            "flex": null,
            "flex_flow": null,
            "grid_area": null,
            "grid_auto_columns": null,
            "grid_auto_flow": null,
            "grid_auto_rows": null,
            "grid_column": null,
            "grid_gap": null,
            "grid_row": null,
            "grid_template_areas": null,
            "grid_template_columns": null,
            "grid_template_rows": null,
            "height": null,
            "justify_content": null,
            "justify_items": null,
            "left": null,
            "margin": null,
            "max_height": null,
            "max_width": null,
            "min_height": null,
            "min_width": null,
            "object_fit": null,
            "object_position": null,
            "order": null,
            "overflow": null,
            "overflow_x": null,
            "overflow_y": null,
            "padding": null,
            "right": null,
            "top": null,
            "visibility": null,
            "width": null
          }
        },
        "daaa5101fc3f4be980109db73d346846": {
          "model_module": "@jupyter-widgets/controls",
          "model_module_version": "1.5.0",
          "model_name": "HTMLModel",
          "state": {
            "_dom_classes": [],
            "_model_module": "@jupyter-widgets/controls",
            "_model_module_version": "1.5.0",
            "_model_name": "HTMLModel",
            "_view_count": null,
            "_view_module": "@jupyter-widgets/controls",
            "_view_module_version": "1.5.0",
            "_view_name": "HTMLView",
            "description": "",
            "description_tooltip": null,
            "layout": "IPY_MODEL_aab1fccfb9ec44ef81d40764b1101047",
            "placeholder": "​",
            "style": "IPY_MODEL_5c47f2ec96234cdb9b88860970d6cc26",
            "value": " 112/112 [00:00&lt;00:00, 4.30kB/s]"
          }
        },
        "dbe0aec775614cd6a62f414183336fb3": {
          "model_module": "@jupyter-widgets/base",
          "model_module_version": "1.2.0",
          "model_name": "LayoutModel",
          "state": {
            "_model_module": "@jupyter-widgets/base",
            "_model_module_version": "1.2.0",
            "_model_name": "LayoutModel",
            "_view_count": null,
            "_view_module": "@jupyter-widgets/base",
            "_view_module_version": "1.2.0",
            "_view_name": "LayoutView",
            "align_content": null,
            "align_items": null,
            "align_self": null,
            "border": null,
            "bottom": null,
            "display": null,
            "flex": null,
            "flex_flow": null,
            "grid_area": null,
            "grid_auto_columns": null,
            "grid_auto_flow": null,
            "grid_auto_rows": null,
            "grid_column": null,
            "grid_gap": null,
            "grid_row": null,
            "grid_template_areas": null,
            "grid_template_columns": null,
            "grid_template_rows": null,
            "height": null,
            "justify_content": null,
            "justify_items": null,
            "left": null,
            "margin": null,
            "max_height": null,
            "max_width": null,
            "min_height": null,
            "min_width": null,
            "object_fit": null,
            "object_position": null,
            "order": null,
            "overflow": null,
            "overflow_x": null,
            "overflow_y": null,
            "padding": null,
            "right": null,
            "top": null,
            "visibility": null,
            "width": null
          }
        },
        "e06a6371000d44edb68314c4a4be09fd": {
          "model_module": "@jupyter-widgets/base",
          "model_module_version": "1.2.0",
          "model_name": "LayoutModel",
          "state": {
            "_model_module": "@jupyter-widgets/base",
            "_model_module_version": "1.2.0",
            "_model_name": "LayoutModel",
            "_view_count": null,
            "_view_module": "@jupyter-widgets/base",
            "_view_module_version": "1.2.0",
            "_view_name": "LayoutView",
            "align_content": null,
            "align_items": null,
            "align_self": null,
            "border": null,
            "bottom": null,
            "display": null,
            "flex": null,
            "flex_flow": null,
            "grid_area": null,
            "grid_auto_columns": null,
            "grid_auto_flow": null,
            "grid_auto_rows": null,
            "grid_column": null,
            "grid_gap": null,
            "grid_row": null,
            "grid_template_areas": null,
            "grid_template_columns": null,
            "grid_template_rows": null,
            "height": null,
            "justify_content": null,
            "justify_items": null,
            "left": null,
            "margin": null,
            "max_height": null,
            "max_width": null,
            "min_height": null,
            "min_width": null,
            "object_fit": null,
            "object_position": null,
            "order": null,
            "overflow": null,
            "overflow_x": null,
            "overflow_y": null,
            "padding": null,
            "right": null,
            "top": null,
            "visibility": null,
            "width": null
          }
        },
        "e6679a4d12bb46fc9b6bc3b93564d403": {
          "model_module": "@jupyter-widgets/controls",
          "model_module_version": "1.5.0",
          "model_name": "HBoxModel",
          "state": {
            "_dom_classes": [],
            "_model_module": "@jupyter-widgets/controls",
            "_model_module_version": "1.5.0",
            "_model_name": "HBoxModel",
            "_view_count": null,
            "_view_module": "@jupyter-widgets/controls",
            "_view_module_version": "1.5.0",
            "_view_name": "HBoxView",
            "box_style": "",
            "children": [
              "IPY_MODEL_3db4702ac28b4a8dba726d5acc6ccc38",
              "IPY_MODEL_c09e06af18fb420482556577250b5d85",
              "IPY_MODEL_6a1175a467a645e1bfd988ad1ad76981"
            ],
            "layout": "IPY_MODEL_bba495e617b143af9a30afd021f2083a"
          }
        },
        "ed4fb3c0018b4a28aa7c07da0d76787c": {
          "model_module": "@jupyter-widgets/controls",
          "model_module_version": "1.5.0",
          "model_name": "ProgressStyleModel",
          "state": {
            "_model_module": "@jupyter-widgets/controls",
            "_model_module_version": "1.5.0",
            "_model_name": "ProgressStyleModel",
            "_view_count": null,
            "_view_module": "@jupyter-widgets/base",
            "_view_module_version": "1.2.0",
            "_view_name": "StyleView",
            "bar_color": null,
            "description_width": ""
          }
        },
        "f41b1150b86b46a89aa8244a09fcf8da": {
          "model_module": "@jupyter-widgets/base",
          "model_module_version": "1.2.0",
          "model_name": "LayoutModel",
          "state": {
            "_model_module": "@jupyter-widgets/base",
            "_model_module_version": "1.2.0",
            "_model_name": "LayoutModel",
            "_view_count": null,
            "_view_module": "@jupyter-widgets/base",
            "_view_module_version": "1.2.0",
            "_view_name": "LayoutView",
            "align_content": null,
            "align_items": null,
            "align_self": null,
            "border": null,
            "bottom": null,
            "display": null,
            "flex": null,
            "flex_flow": null,
            "grid_area": null,
            "grid_auto_columns": null,
            "grid_auto_flow": null,
            "grid_auto_rows": null,
            "grid_column": null,
            "grid_gap": null,
            "grid_row": null,
            "grid_template_areas": null,
            "grid_template_columns": null,
            "grid_template_rows": null,
            "height": null,
            "justify_content": null,
            "justify_items": null,
            "left": null,
            "margin": null,
            "max_height": null,
            "max_width": null,
            "min_height": null,
            "min_width": null,
            "object_fit": null,
            "object_position": null,
            "order": null,
            "overflow": null,
            "overflow_x": null,
            "overflow_y": null,
            "padding": null,
            "right": null,
            "top": null,
            "visibility": null,
            "width": null
          }
        },
        "fd26d227ee594effbb07ead36259364b": {
          "model_module": "@jupyter-widgets/controls",
          "model_module_version": "1.5.0",
          "model_name": "DescriptionStyleModel",
          "state": {
            "_model_module": "@jupyter-widgets/controls",
            "_model_module_version": "1.5.0",
            "_model_name": "DescriptionStyleModel",
            "_view_count": null,
            "_view_module": "@jupyter-widgets/base",
            "_view_module_version": "1.2.0",
            "_view_name": "StyleView",
            "description_width": ""
          }
        }
      }
    }
  },
  "nbformat": 4,
  "nbformat_minor": 0
}
